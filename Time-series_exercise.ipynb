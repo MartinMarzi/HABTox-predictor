{
 "cells": [
  {
   "cell_type": "code",
   "execution_count": 3,
   "id": "57d854a4-aa15-40da-bd45-4df04e0043ed",
   "metadata": {},
   "outputs": [],
   "source": [
    "from datetime import datetime\n",
    "import pandas as pd\n",
    "import numpy as np\n",
    "from dateutil.parser import parse"
   ]
  },
  {
   "cell_type": "code",
   "execution_count": 6,
   "id": "956b0cd8-ab9c-4514-a473-1586e845bd85",
   "metadata": {},
   "outputs": [
    {
     "data": {
      "text/plain": [
       "[datetime.datetime(1994, 8, 8, 0, 0),\n",
       " datetime.datetime(1994, 8, 24, 0, 0),\n",
       " datetime.datetime(1994, 9, 7, 0, 0),\n",
       " datetime.datetime(1994, 9, 21, 0, 0)]"
      ]
     },
     "execution_count": 6,
     "metadata": {},
     "output_type": "execute_result"
    }
   ],
   "source": [
    "datestrs = [\"08/08/1994\", \"24/08/1994\", \"07/09/1994\", \"21/09/1994\"]\n",
    "dates = []\n",
    "for x in datestrs:\n",
    "    dates.append(parse(x, dayfirst=True))\n",
    "dates"
   ]
  },
  {
   "cell_type": "code",
   "execution_count": 7,
   "id": "abba3d07-22a2-4d28-ad69-ae2292bec152",
   "metadata": {},
   "outputs": [
    {
     "data": {
      "text/plain": [
       "DatetimeIndex(['1994-08-08', '1994-08-24', '1994-09-07', '1994-09-21'], dtype='datetime64[ns]', freq=None)"
      ]
     },
     "execution_count": 7,
     "metadata": {},
     "output_type": "execute_result"
    }
   ],
   "source": [
    "pd.to_datetime(dates, dayfirst=True)"
   ]
  },
  {
   "cell_type": "code",
   "execution_count": 8,
   "id": "37109475-1e23-4db5-85ff-1f1e73b46edd",
   "metadata": {},
   "outputs": [
    {
     "data": {
      "text/plain": [
       "1994-08-08   -1.156652\n",
       "1994-08-24    0.087899\n",
       "1994-09-07    2.652668\n",
       "1994-09-21    1.108015\n",
       "dtype: float64"
      ]
     },
     "execution_count": 8,
     "metadata": {},
     "output_type": "execute_result"
    }
   ],
   "source": [
    "ts = pd.Series(np.random.randn(4), index=dates)\n",
    "ts"
   ]
  },
  {
   "cell_type": "code",
   "execution_count": 10,
   "id": "4680cfdf-d057-41b9-b81a-9804641ce6cb",
   "metadata": {},
   "outputs": [
    {
     "data": {
      "text/plain": [
       "dtype('<M8[ns]')"
      ]
     },
     "execution_count": 10,
     "metadata": {},
     "output_type": "execute_result"
    }
   ],
   "source": [
    "ts.index.dtype"
   ]
  },
  {
   "cell_type": "code",
   "execution_count": 11,
   "id": "3cacb60a-41a6-4e09-ba0d-79b247615f00",
   "metadata": {},
   "outputs": [
    {
     "data": {
      "text/plain": [
       "Timestamp('1994-08-08 00:00:00')"
      ]
     },
     "execution_count": 11,
     "metadata": {},
     "output_type": "execute_result"
    }
   ],
   "source": [
    "ts.index[0]"
   ]
  },
  {
   "cell_type": "code",
   "execution_count": 12,
   "id": "025a286a-05a7-44a5-93b4-f8c3d69dfcc7",
   "metadata": {},
   "outputs": [
    {
     "data": {
      "text/plain": [
       "Timestamp('1994-09-07 00:00:00')"
      ]
     },
     "execution_count": 12,
     "metadata": {},
     "output_type": "execute_result"
    }
   ],
   "source": [
    "stamp = ts.index[2]\n",
    "stamp"
   ]
  },
  {
   "cell_type": "code",
   "execution_count": 13,
   "id": "dcbab4c2-bb1f-4007-a7f9-6d4e9037862d",
   "metadata": {},
   "outputs": [
    {
     "data": {
      "text/plain": [
       "2.652668307108718"
      ]
     },
     "execution_count": 13,
     "metadata": {},
     "output_type": "execute_result"
    }
   ],
   "source": [
    "ts[stamp]"
   ]
  },
  {
   "cell_type": "code",
   "execution_count": 25,
   "id": "427072dc-4178-4d2a-8634-d4af3221f58a",
   "metadata": {},
   "outputs": [
    {
     "data": {
      "text/plain": [
       "1.1080148292080432"
      ]
     },
     "execution_count": 25,
     "metadata": {},
     "output_type": "execute_result"
    }
   ],
   "source": [
    "ts[\"21/9/1994\"]"
   ]
  },
  {
   "cell_type": "code",
   "execution_count": 18,
   "id": "2f715242-57ad-420c-895f-cd3e7dc44d6f",
   "metadata": {},
   "outputs": [
    {
     "data": {
      "text/plain": [
       "1.1080148292080432"
      ]
     },
     "execution_count": 18,
     "metadata": {},
     "output_type": "execute_result"
    }
   ],
   "source": [
    "ts[\"19940921\"]"
   ]
  },
  {
   "cell_type": "code",
   "execution_count": 20,
   "id": "c53d1f91-ab38-4497-a93e-9da3e8e25e1b",
   "metadata": {},
   "outputs": [],
   "source": [
    "longer_ts = pd.Series(np.random.randn(1000), \n",
    "                      index=pd.date_range(\"1/1/2000\", periods=1000))"
   ]
  },
  {
   "cell_type": "code",
   "execution_count": 21,
   "id": "79dd9825-1c22-4809-9175-5fbd9d579763",
   "metadata": {},
   "outputs": [
    {
     "data": {
      "text/plain": [
       "2000-01-01   -0.222942\n",
       "2000-01-02   -0.501622\n",
       "2000-01-03    0.155922\n",
       "2000-01-04    0.538503\n",
       "2000-01-05    0.141494\n",
       "                ...   \n",
       "2002-09-22   -0.574232\n",
       "2002-09-23    1.332821\n",
       "2002-09-24    0.213764\n",
       "2002-09-25   -0.630588\n",
       "2002-09-26   -1.872664\n",
       "Freq: D, Length: 1000, dtype: float64"
      ]
     },
     "execution_count": 21,
     "metadata": {},
     "output_type": "execute_result"
    }
   ],
   "source": [
    "longer_ts"
   ]
  },
  {
   "cell_type": "code",
   "execution_count": 31,
   "id": "c12f0e3a-9f7c-42bf-a902-37f6df403ef9",
   "metadata": {},
   "outputs": [
    {
     "data": {
      "text/plain": [
       "2000-03-01   -0.220491\n",
       "2000-03-02   -0.171908\n",
       "2000-03-03   -0.819788\n",
       "2000-03-04    1.233949\n",
       "2000-03-05    1.262238\n",
       "2000-03-06   -1.627895\n",
       "2000-03-07    1.747590\n",
       "2000-03-08    1.432149\n",
       "2000-03-09    1.408766\n",
       "2000-03-10   -1.860955\n",
       "2000-03-11   -0.557159\n",
       "2000-03-12   -0.330331\n",
       "2000-03-13    0.949878\n",
       "2000-03-14    0.509942\n",
       "2000-03-15   -0.860306\n",
       "2000-03-16   -1.356593\n",
       "2000-03-17    1.016392\n",
       "2000-03-18    0.563992\n",
       "2000-03-19    0.847497\n",
       "2000-03-20    0.587104\n",
       "2000-03-21    0.472020\n",
       "2000-03-22   -1.717966\n",
       "2000-03-23    2.998872\n",
       "2000-03-24    1.004415\n",
       "2000-03-25   -0.526184\n",
       "2000-03-26   -0.575146\n",
       "2000-03-27   -0.204074\n",
       "2000-03-28   -0.926499\n",
       "2000-03-29    0.464636\n",
       "2000-03-30    0.505740\n",
       "2000-03-31    0.375818\n",
       "Freq: D, dtype: float64"
      ]
     },
     "execution_count": 31,
     "metadata": {},
     "output_type": "execute_result"
    }
   ],
   "source": [
    "longer_ts[\"3/2000\"]"
   ]
  },
  {
   "cell_type": "code",
   "execution_count": 24,
   "id": "e7eea207-f859-42ad-8332-c84b012ddb57",
   "metadata": {},
   "outputs": [
    {
     "data": {
      "text/plain": [
       "2000-01-01   -0.222942\n",
       "2000-01-02   -0.501622\n",
       "2000-01-03    0.155922\n",
       "2000-01-04    0.538503\n",
       "2000-01-05    0.141494\n",
       "2000-01-06   -0.724174\n",
       "2000-01-07   -1.802295\n",
       "2000-01-08   -0.789427\n",
       "2000-01-09   -2.412639\n",
       "2000-01-10    0.927878\n",
       "2000-01-11   -1.109970\n",
       "2000-01-12   -0.016238\n",
       "2000-01-13   -0.816901\n",
       "2000-01-14    1.652400\n",
       "2000-01-15   -0.905498\n",
       "2000-01-16   -0.395802\n",
       "2000-01-17    1.679050\n",
       "2000-01-18    0.501061\n",
       "2000-01-19    0.046235\n",
       "2000-01-20    0.312421\n",
       "2000-01-21    0.430533\n",
       "2000-01-22    0.921287\n",
       "2000-01-23   -0.654437\n",
       "2000-01-24    0.539939\n",
       "2000-01-25    0.468095\n",
       "2000-01-26   -0.167912\n",
       "2000-01-27   -0.443564\n",
       "2000-01-28   -0.341888\n",
       "2000-01-29    0.585612\n",
       "2000-01-30   -0.538828\n",
       "2000-01-31    0.357049\n",
       "Freq: D, dtype: float64"
      ]
     },
     "execution_count": 24,
     "metadata": {},
     "output_type": "execute_result"
    }
   ],
   "source": [
    "longer_ts[\"2000-01\"]"
   ]
  },
  {
   "cell_type": "code",
   "execution_count": null,
   "id": "06a62f90-8733-49c7-a004-8f169404bc0c",
   "metadata": {},
   "outputs": [],
   "source": []
  }
 ],
 "metadata": {
  "kernelspec": {
   "display_name": "Python 3",
   "language": "python",
   "name": "python3"
  },
  "language_info": {
   "codemirror_mode": {
    "name": "ipython",
    "version": 3
   },
   "file_extension": ".py",
   "mimetype": "text/x-python",
   "name": "python",
   "nbconvert_exporter": "python",
   "pygments_lexer": "ipython3",
   "version": "3.9.4"
  }
 },
 "nbformat": 4,
 "nbformat_minor": 5
}
