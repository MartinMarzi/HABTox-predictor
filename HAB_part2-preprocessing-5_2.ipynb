{
 "cells": [
  {
   "cell_type": "code",
   "execution_count": 114,
   "id": "57d854a4-aa15-40da-bd45-4df04e0043ed",
   "metadata": {},
   "outputs": [],
   "source": [
    "from datetime import datetime\n",
    "import pandas as pd\n",
    "import numpy as np\n",
    "from dateutil.parser import parse\n",
    "import datetime\n",
    "from dateutil.parser import parse\n",
    "import math\n",
    "from numpy import mean\n",
    "\n",
    "from sklearn.preprocessing import StandardScaler, RobustScaler, LabelEncoder\n",
    "from sklearn.model_selection import cross_val_score, RepeatedStratifiedKFold, GridSearchCV, cross_validate, StratifiedKFold\n",
    "from sklearn.experimental import enable_iterative_imputer\n",
    "from sklearn.impute import IterativeImputer, SimpleImputer, KNNImputer\n",
    "from sklearn.pipeline import Pipeline as SKLpipeline\n",
    "from sklearn import metrics\n",
    "from sklearn.model_selection import train_test_split, KFold\n",
    "from sklearn.tree import DecisionTreeClassifier\n",
    "from sklearn.tree import export_text\n",
    "from dtreeviz.trees import dtreeviz \n",
    "from sklearn.ensemble import RandomForestClassifier\n",
    "from sklearn.neural_network import MLPClassifier\n",
    "\n",
    "from imblearn.over_sampling import SMOTE\n",
    "from imblearn.under_sampling import RandomUnderSampler\n",
    "from imblearn.pipeline import Pipeline as IMBLpipeline\n",
    "\n",
    "from sklearn.inspection import permutation_importance\n",
    "import shap\n",
    "from matplotlib import pyplot as plt\n",
    "\n",
    "from IPython.core.interactiveshell import InteractiveShell\n",
    "# InteractiveShell.ast_node_interactivity = \"all\"\n",
    "\n",
    "import ipynbname\n",
    "nb_fname = ipynbname.name()\n",
    "\n",
    "pd.set_option(\"display.max_rows\", 30)\n",
    "pd.set_option(\"display.max_columns\", 30)"
   ]
  },
  {
   "cell_type": "code",
   "execution_count": 115,
   "id": "1d530319-a99e-4824-982c-5d531a8ac548",
   "metadata": {},
   "outputs": [
    {
     "data": {
      "text/plain": [
       "date                       0\n",
       "sampling station           0\n",
       "DSP                        1\n",
       "DSP_like                  60\n",
       "Dinophysis caudata         1\n",
       "Dinophysis fortii          1\n",
       "Phalacroma rotundatum      1\n",
       "Dinophysis sacculus        1\n",
       "Dinophysis tripos          1\n",
       "sun [h]                    0\n",
       "air temp                   0\n",
       "wind strength              0\n",
       "precipitation              0\n",
       "Chl-a                    661\n",
       "salinity                 191\n",
       "T                        244\n",
       "SECCHI                   696\n",
       "DIN                      542\n",
       "PO4-P                    534\n",
       "temp_dif                 346\n",
       "Soca                       0\n",
       "month                      0\n",
       "lipophylic_toxins        320\n",
       "dtype: int64"
      ]
     },
     "execution_count": 115,
     "metadata": {},
     "output_type": "execute_result"
    }
   ],
   "source": [
    "# read df pickle\n",
    "df_alg = pd.read_pickle(\"objects/df_alg-HAB_preprocessing_5_1\")\n",
    "data = pd.read_pickle(\"objects/df_cons4-HAB_preprocessing_5_1\")\n",
    "\n",
    "# data.set_index('date', inplace=True)\n",
    "# slice by station and time\n",
    "# df_cons = df_cons[df_cons[\"sampling station\"] == \"Debeli_rtic\"].loc[\"2008-01-01\" : \"2021-12-31\"]\n",
    "\n",
    "data.isnull().sum()"
   ]
  },
  {
   "cell_type": "markdown",
   "id": "8d45a68c-d114-4899-bdc7-7a0a3884b1be",
   "metadata": {},
   "source": [
    "# Second data preprocessing"
   ]
  },
  {
   "cell_type": "markdown",
   "id": "7298d89b-2b27-44e8-b75c-cd82c72afd6c",
   "metadata": {},
   "source": [
    "## Interpolate closest values"
   ]
  },
  {
   "cell_type": "code",
   "execution_count": 116,
   "id": "6e68fef3-c786-47ef-a2db-8554456b1d96",
   "metadata": {
    "tags": []
   },
   "outputs": [],
   "source": [
    "# Interpolate missing values based on closest values at the same location\n",
    "data_ipl = data.copy()\n",
    "\n",
    "max_range = pd.Timedelta(30, unit=\"day\")\n",
    "min_range = pd.Timedelta(-30, unit=\"day\")\n",
    "\n",
    "# List of features with missing values\n",
    "features = [\n",
    " 'Chl-a',\n",
    " 'salinity',\n",
    " 'T',\n",
    " 'SECCHI',\n",
    " 'DIN',\n",
    " 'PO4-P',\n",
    " ]\n",
    "\n",
    "# Iterate through all features\n",
    "for fet in features:\n",
    "    # Iterate over data and select an index and date of the data instance\n",
    "    for idx, date in data[\"date\"].iteritems():\n",
    "        # check if the instance has NaN for this feature\n",
    "        if pd.isna(data[fet][idx]):            \n",
    "            # l = []\n",
    "            # Iterate over data again and select an index and date of the data instance\n",
    "            for idx2, date2 in data[\"date\"].iteritems():\n",
    "                # Check if the instances are from the same sampling station\n",
    "                if (data[\"sampling station\"][idx2] == data[\"sampling station\"][idx]):\n",
    "                    # Calculate the timespan between the two instances\n",
    "                    timespan = date - date2\n",
    "                    if min_range <= timespan <= max_range:\n",
    "                        # l.append(idx2) \n",
    "                        data_ipl.loc[idx, fet] = data[fet][idx2]\n",
    "                    else:\n",
    "                        continue\n",
    "                else:\n",
    "                    continue      \n",
    "        else:\n",
    "            continue"
   ]
  },
  {
   "cell_type": "code",
   "execution_count": 124,
   "id": "c04b3d6b-c640-47d4-9090-65e479b59eac",
   "metadata": {},
   "outputs": [
    {
     "data": {
      "text/plain": [
       "date                       0\n",
       "sampling station           0\n",
       "DSP                        1\n",
       "DSP_like                  60\n",
       "Dinophysis caudata         1\n",
       "Dinophysis fortii          1\n",
       "Phalacroma rotundatum      1\n",
       "Dinophysis sacculus        1\n",
       "Dinophysis tripos          1\n",
       "sun [h]                    0\n",
       "air temp                   0\n",
       "wind strength              0\n",
       "precipitation              0\n",
       "Chl-a                    422\n",
       "salinity                  21\n",
       "T                         59\n",
       "SECCHI                   450\n",
       "DIN                      352\n",
       "PO4-P                    349\n",
       "temp_dif                 346\n",
       "Soca                       0\n",
       "month                      0\n",
       "lipophylic_toxins        320\n",
       "dtype: int64"
      ]
     },
     "execution_count": 124,
     "metadata": {},
     "output_type": "execute_result"
    }
   ],
   "source": [
    "data_ipl.isnull().sum()"
   ]
  },
  {
   "cell_type": "markdown",
   "id": "71900d9c-1547-49a1-b4eb-9fdf0229a44b",
   "metadata": {},
   "source": [
    "## Prepare original data for ML"
   ]
  },
  {
   "cell_type": "code",
   "execution_count": null,
   "id": "8bbb432e-0f2e-4987-8867-6653bc071643",
   "metadata": {},
   "outputs": [],
   "source": [
    "# dataframe with selected features\n",
    "data.drop(columns=[\"date\", \"sampling station\", \"DSP_like\", \"temp_dif\"], inplace=True)#\n",
    "# data.isnull().sum()\n",
    "\n",
    "# set date as index for slicing\n",
    "# data_tree[\"org_idx\"] = df_ipl_allF_L.index\n",
    "# data_tree.set_index('date', inplace=True)"
   ]
  },
  {
   "cell_type": "code",
   "execution_count": 121,
   "id": "c3ea1570-2697-4336-9a73-9fe3ef5a986d",
   "metadata": {},
   "outputs": [
    {
     "data": {
      "text/plain": [
       "neg    996\n",
       "NaN    320\n",
       "poz    136\n",
       "Name: lipophylic_toxins, dtype: int64"
      ]
     },
     "execution_count": 121,
     "metadata": {},
     "output_type": "execute_result"
    }
   ],
   "source": [
    "# Class distribution\n",
    "data[\"lipophylic_toxins\"].value_counts(dropna=False)"
   ]
  },
  {
   "cell_type": "code",
   "execution_count": 123,
   "id": "9d8a02ba-d3c2-4501-ad5a-bd680bfeae43",
   "metadata": {},
   "outputs": [],
   "source": [
    "# EXPORT df with all features\n",
    "# Create pickle\n",
    "data.to_pickle(f\"data/preprocessed/hab_org-data-{nb_fname}\")\n",
    "# Export csv\n",
    "data.to_csv(f\"data/preprocessed/hab_org-data-{nb_fname}.csv\", sep=\",\", na_rep=\"?\", index=False)"
   ]
  },
  {
   "cell_type": "markdown",
   "id": "04839143-3ad3-4ba6-b550-d52d56c29fbc",
   "metadata": {},
   "source": [
    "## Prepare interpolated data for ML"
   ]
  },
  {
   "cell_type": "code",
   "execution_count": 133,
   "id": "ca6513f1-69c0-412c-8163-66279b385c59",
   "metadata": {},
   "outputs": [
    {
     "data": {
      "text/plain": [
       "DSP                        1\n",
       "Dinophysis caudata         1\n",
       "Dinophysis fortii          1\n",
       "Phalacroma rotundatum      1\n",
       "Dinophysis sacculus        1\n",
       "Dinophysis tripos          1\n",
       "sun [h]                    0\n",
       "air temp                   0\n",
       "wind strength              0\n",
       "precipitation              0\n",
       "Chl-a                    422\n",
       "salinity                  21\n",
       "T                         59\n",
       "SECCHI                   450\n",
       "DIN                      352\n",
       "PO4-P                    349\n",
       "Soca                       0\n",
       "month                      0\n",
       "lipophylic_toxins        320\n",
       "dtype: int64"
      ]
     },
     "execution_count": 133,
     "metadata": {},
     "output_type": "execute_result"
    }
   ],
   "source": [
    "# All features\n",
    "# dataframe with selected features\n",
    "data_ipl = df_ipl.copy()\n",
    "data_ipl.drop(columns=[\"date\", \"sampling station\", \"DSP_like\", \"temp_dif\"], inplace=True)#\n",
    "data_ipl.isnull().sum()\n",
    "\n",
    "# set date as index for slicing\n",
    "# df_ipl_allF_L[\"org_idx\"] = df_ipl_allF_L.index\n",
    "# df_ipl_allF.set_index('date', inplace=True)"
   ]
  },
  {
   "cell_type": "code",
   "execution_count": 134,
   "id": "f4bb05f2-2d1e-498f-b130-a38413dbcdf7",
   "metadata": {},
   "outputs": [
    {
     "data": {
      "text/plain": [
       "neg    996\n",
       "NaN    320\n",
       "poz    136\n",
       "Name: lipophylic_toxins, dtype: int64"
      ]
     },
     "execution_count": 134,
     "metadata": {},
     "output_type": "execute_result"
    }
   ],
   "source": [
    "# Class distribution\n",
    "data_ipl[\"lipophylic_toxins\"].value_counts(dropna=False)"
   ]
  },
  {
   "cell_type": "code",
   "execution_count": 135,
   "id": "a1f5b6e4-bdeb-4e21-9ff1-ce7cdcd4d5a0",
   "metadata": {},
   "outputs": [],
   "source": [
    "# EXPORT interpolated df with all features\n",
    "# Create pickle\n",
    "data_ipl.to_pickle(f\"data/preprocessed/hab_interp_data-{nb_fname}\")\n",
    "# Export csv\n",
    "data_ipl.to_csv(f\"data/preprocessed/hab_interp_data-{nb_fname}.csv\", sep=\",\", na_rep=\"?\", index=False)"
   ]
  },
  {
   "cell_type": "code",
   "execution_count": null,
   "id": "37d9c9a9-8f66-45d7-9767-8555adcd5d6c",
   "metadata": {},
   "outputs": [],
   "source": []
  }
 ],
 "metadata": {
  "kernelspec": {
   "display_name": "Python 3 (ipykernel)",
   "language": "python",
   "name": "python3"
  },
  "language_info": {
   "codemirror_mode": {
    "name": "ipython",
    "version": 3
   },
   "file_extension": ".py",
   "mimetype": "text/x-python",
   "name": "python",
   "nbconvert_exporter": "python",
   "pygments_lexer": "ipython3",
   "version": "3.8.0"
  }
 },
 "nbformat": 4,
 "nbformat_minor": 5
}
