{
 "cells": [
  {
   "cell_type": "code",
   "execution_count": 44,
   "id": "a8c6a089-baef-4fe3-934b-230be26cbb6b",
   "metadata": {},
   "outputs": [
    {
     "name": "stdout",
     "output_type": "stream",
     "text": [
      "class encoding: ['neg','poz'] -> [0 1]\n"
     ]
    }
   ],
   "source": [
    "import pandas as pd\n",
    "from collections import Counter\n",
    "from imblearn.over_sampling import SMOTE\n",
    "from imblearn.under_sampling import RandomUnderSampler\n",
    "from imblearn.pipeline import Pipeline\n",
    "import multiprocessing\n",
    "from numpy import mean\n",
    "from sklearn.model_selection import cross_val_score\n",
    "from sklearn.model_selection import RepeatedStratifiedKFold\n",
    "from sklearn.ensemble import RandomForestClassifier\n",
    "from sklearn.preprocessing import StandardScaler, RobustScaler\n",
    "from sklearn.model_selection import GridSearchCV\n",
    "from sklearn.experimental import enable_iterative_imputer\n",
    "from sklearn.impute import IterativeImputer\n",
    "from sklearn.impute import SimpleImputer\n",
    "from sklearn.impute import KNNImputer\n",
    "pd.set_option('display.max_rows', None)\n",
    "pd.set_option('display.max_columns', None)\n",
    "\n",
    "df_cons_SL = pd.read_csv(\"df_cons_SL_NaN-incl.csv\")\n",
    "\n",
    "# remove insatnces with missing values in target class\n",
    "df_cons_SL = df_cons_SL.dropna(subset=['lipophylic_toxins'], how=\"any\").copy()\n",
    "\n",
    "X = df_cons_SL.copy().drop(\"lipophylic_toxins\", axis=1)\n",
    "y = df_cons_SL[\"lipophylic_toxins\"]\n",
    "\n",
    "from sklearn import preprocessing\n",
    "le = preprocessing.LabelEncoder()\n",
    "le.fit(y)\n",
    "# print(f\"Class labels pre-transform: {list(le.classes_)}\")\n",
    "y = le.transform(y)\n",
    "print(f\"class encoding: ['neg','poz'] -> {le.transform(['neg','poz'])}\")"
   ]
  },
  {
   "cell_type": "code",
   "execution_count": null,
   "id": "fa65a0eb-f215-430c-a119-a0e073736505",
   "metadata": {
    "tags": []
   },
   "outputs": [
    {
     "name": "stdout",
     "output_type": "stream",
     "text": [
      "Fitting 3 folds for each of 180 candidates, totalling 540 fits\n"
     ]
    }
   ],
   "source": [
    "pipeline = Pipeline([\n",
    "   ('imp', SimpleImputer()),\n",
    "    ('norm', StandardScaler()),\n",
    "   # ('norm', RobustScaler()),\n",
    "    ('over', SMOTE(sampling_strategy=0.5)),\n",
    "    ('under', RandomUnderSampler(sampling_strategy=0.8)),\n",
    "    ('clf', RandomForestClassifier())\n",
    "])\n",
    "\n",
    "parameters = {\n",
    "              'over__k_neighbors': range(1,11),\n",
    "              'clf__n_estimators': [50,100,150],\n",
    "              'clf__criterion': ['gini', 'entropy'],\n",
    "              'clf__class_weight': ['balanced', 'balanced_subsample', None],\n",
    "         \n",
    "}\n",
    "nfolds = 3\n",
    "scores = ['recall', 'f1', 'roc_auc']\n",
    "gscv = GridSearchCV(pipeline, \n",
    "                    parameters, \n",
    "                    scoring=scores,\n",
    "                    cv=nfolds, #RepeatedStratifiedKFold(n_splits=3, n_repeats=1),\n",
    "                    n_jobs=int(multiprocessing.cpu_count()/2), \n",
    "                    return_train_score=False, \n",
    "                    verbose=1, \n",
    "                    refit=False)\n",
    "resultsGSCV = gscv.fit(X, y)\n",
    "results = pd.DataFrame(resultsGSCV.cv_results_)\n",
    "display(results.sort_values(by=[f'rank_test_recall']).transpose())"
   ]
  },
  {
   "cell_type": "raw",
   "id": "bea9e63c-d99a-4384-89d9-de9f5612c7bf",
   "metadata": {},
   "source": [
    "# Model evaluation with the pipeline of SMOTE oversampling and undersampling on the training dataset only (within each cross-validation fold)!\n",
    "# Evaluate k (SMOTE) parameter. \n",
    "\n",
    "from numpy import mean\n",
    "from sklearn.model_selection import cross_val_score\n",
    "from sklearn.model_selection import RepeatedStratifiedKFold\n",
    "from sklearn.ensemble import RandomForestClassifier\n",
    "\n",
    "# Cross-validation of model with ROC AUC with SMOTE pipeline  \n",
    "\n",
    "\n",
    "# Find best performing k-value for SMOTE\n",
    "k_values = list(range(1,11))\n",
    "RF_auc_best_k = (_, 0)\n",
    "for k in k_values:   \n",
    "    # define pipeline\n",
    "    cv = RepeatedStratifiedKFold(n_splits=3, n_repeats=3, random_state=1)\n",
    "    clf = RandomForestClassifier(n_estimators=100, max_depth=None, max_features=None)\n",
    "    over = SMOTE(sampling_strategy=0.5, k_neighbors=k)\n",
    "    under = RandomUnderSampler(sampling_strategy=0.8)\n",
    "    steps = [('over', over), ('under', under), ('clf', clf)]\n",
    "    pipeline = Pipeline(steps=steps)\n",
    "    scores = cross_val_score(pipeline, X, y, scoring='roc_auc', cv=3, n_jobs=-1)\n",
    "    score = mean(scores)\n",
    "    print('> k=%d, Mean ROC AUC: %.3f' % (k, score))\n",
    "    if score > RF_auc_best_k[1]:\n",
    "        RF_auc_best_k = (k, score)\n",
    "\n",
    "print(f\">>Best k-value: k={RF_auc_best_k[0]} with Mean ROC AUC on resampled dataset: {round(RF_auc_best_k[1], 2)}\")  \n",
    "\n",
    "# Cross-validation of model with ROC AUC without SMOTE pipeline  \n",
    "scores = cross_val_score(clf, X, y, scoring='roc_auc', cv=cv, n_jobs=-1)\n",
    "RF_auc_score = mean(scores)\n",
    "print(f\">>Mean ROC AUC on unsampled dataset: {round(RF_auc_score, 2)}\\n\")\n",
    "\n",
    "# Cross-validation of model with Recall with SMOTE pipeline\n",
    "# Find best performing k-value for SMOTE\n",
    "RF_recall_best_k = (_, 0)\n",
    "for k in k_values:\n",
    "    scores = cross_val_score(pipeline, X, y, scoring='recall', cv=cv, n_jobs=-1)\n",
    "    score = mean(scores)\n",
    "    print('> k=%d, Mean Recall: %.3f' % (k, score))\n",
    "    if score > RF_recall_best_k[1]:\n",
    "        RF_recall_best_k = (k, score)\n",
    "\n",
    "print(f\">>Best k-value: k={RF_recall_best_k[0]} with Mean Recall on resampled dataset: {round(RF_recall_best_k[1], 2)}\")   \n",
    "\n",
    "# Cross-validation of model with Recall without SMOTE pipeline  \n",
    "scores = cross_val_score(clf, X, y, scoring='recall', cv=cv, n_jobs=-1)\n",
    "RF_recall_score = mean(scores)\n",
    "print(f\">>Mean Recall on unsampled dataset: {round(RF_recall_score, 2)}\")"
   ]
  },
  {
   "cell_type": "code",
   "execution_count": null,
   "id": "f1e2df34-8ad4-496e-b251-8f2428e9f5e7",
   "metadata": {},
   "outputs": [],
   "source": []
  }
 ],
 "metadata": {
  "kernelspec": {
   "display_name": "Python 3 (ipykernel)",
   "language": "python",
   "name": "python3"
  },
  "language_info": {
   "codemirror_mode": {
    "name": "ipython",
    "version": 3
   },
   "file_extension": ".py",
   "mimetype": "text/x-python",
   "name": "python",
   "nbconvert_exporter": "python",
   "pygments_lexer": "ipython3",
   "version": "3.8.0"
  }
 },
 "nbformat": 4,
 "nbformat_minor": 5
}
