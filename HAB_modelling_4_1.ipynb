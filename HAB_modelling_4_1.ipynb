{
 "cells": [
  {
   "cell_type": "code",
   "execution_count": 1,
   "id": "57d854a4-aa15-40da-bd45-4df04e0043ed",
   "metadata": {},
   "outputs": [],
   "source": [
    "from datetime import datetime\n",
    "import pandas as pd\n",
    "import numpy as np\n",
    "from dateutil.parser import parse\n",
    "pd.set_option(\"display.max_rows\", 15)\n",
    "pd.set_option(\"display.max_columns\", 15)\n",
    "import datetime\n",
    "from dateutil.parser import parse\n",
    "import math\n",
    "\n",
    "from IPython.core.interactiveshell import InteractiveShell\n",
    "# InteractiveShell.ast_node_interactivity = \"all\""
   ]
  },
  {
   "cell_type": "code",
   "execution_count": 2,
   "id": "1d530319-a99e-4824-982c-5d531a8ac548",
   "metadata": {},
   "outputs": [],
   "source": [
    "# read df pickle\n",
    "df_alg = pd.read_pickle(\"objects/df_alg\")\n",
    "df_cons = pd.read_pickle(\"objects/df_cons4\")"
   ]
  },
  {
   "cell_type": "markdown",
   "id": "5d116f4c-ab3e-4f4f-b159-fed440e78707",
   "metadata": {},
   "source": [
    "# Modelling and Preliminary Results"
   ]
  },
  {
   "cell_type": "markdown",
   "id": "9a6f69c3-3202-4942-bddd-06d8f2dc6ce6",
   "metadata": {},
   "source": [
    "---"
   ]
  },
  {
   "cell_type": "markdown",
   "id": "49316e37-8b23-48d7-ba37-be56ca18e203",
   "metadata": {},
   "source": [
    "Due to the needs for specific algorithms the modelling has now been carried out in Weka and below are two selected models and evaluation scores."
   ]
  },
  {
   "cell_type": "markdown",
   "id": "43dc4b94-862e-4c7e-9e29-c4dc3a9ad0e7",
   "metadata": {},
   "source": [
    "### Decision Tree Classifier: J48 (C4.5) "
   ]
  },
  {
   "cell_type": "markdown",
   "id": "6f70c5a8-ef0c-47a7-a872-acf3a7e1f8fc",
   "metadata": {},
   "source": [
    "![J48](Weka_results/Seminar2/tree.J48-C0.25-M4-10F.png)"
   ]
  },
  {
   "cell_type": "markdown",
   "id": "9d43cc2a-fdc5-4ee6-94a4-538050ea8e65",
   "metadata": {},
   "source": [
    "![DecisionTree](Weka_results/Seminar2/tree1.png)"
   ]
  },
  {
   "cell_type": "markdown",
   "id": "889ea905-bdaf-43fc-b1bb-9e493828172b",
   "metadata": {},
   "source": [
    "![tree](Weka_results/Seminar2/tree2.png)"
   ]
  },
  {
   "cell_type": "markdown",
   "id": "e2fcf87c-247d-4128-9608-979d84040271",
   "metadata": {},
   "source": [
    "### Ensemble Classifier: Random Forest"
   ]
  },
  {
   "cell_type": "markdown",
   "id": "da593608-25e2-4f79-b1e4-44fbc801df2d",
   "metadata": {},
   "source": [
    "![randomForest](Weka_results/Seminar2/RandomForest1.png)"
   ]
  },
  {
   "cell_type": "markdown",
   "id": "eaf0f1ef-7d6b-4e0f-a77c-7cd7ee58db32",
   "metadata": {},
   "source": [
    "![randomForest](Weka_results/Seminar2/RandomForest2.png)"
   ]
  },
  {
   "cell_type": "markdown",
   "id": "c941f912-a57c-4caf-ae15-015c0dec5527",
   "metadata": {},
   "source": [
    "# Scikit-learn Analysis"
   ]
  },
  {
   "cell_type": "code",
   "execution_count": 3,
   "id": "211c87c6-8c0a-4325-85be-8efc5b14126a",
   "metadata": {},
   "outputs": [
    {
     "data": {
      "text/plain": [
       "date                       0\n",
       "sampling station           0\n",
       "sampling depth             0\n",
       "sampling method            0\n",
       "PSP                        5\n",
       "DSP                        1\n",
       "DSP_like                  60\n",
       "ASP                      344\n",
       "Dinophysis caudata         1\n",
       "Dinophysis fortii          1\n",
       "Phalacroma rotundatum      1\n",
       "Dinophysis sacculus        1\n",
       "Dinophysis tripos          1\n",
       "sun [h]                    0\n",
       "air temp                   0\n",
       "wind strength              0\n",
       "precipitation              0\n",
       "Chl-a                    610\n",
       "salinity                 176\n",
       "T                        230\n",
       "SECCHI                   661\n",
       "NH4-N                    513\n",
       "NO2-N                    503\n",
       "NO3-N                    499\n",
       "PO4-P                    505\n",
       "SiO3-Si                  570\n",
       "O2                       269\n",
       "pH                       401\n",
       "Soca                      81\n",
       "lipophylic_toxins        249\n",
       "dtype: int64"
      ]
     },
     "execution_count": 3,
     "metadata": {},
     "output_type": "execute_result"
    }
   ],
   "source": [
    "pd.set_option(\"display.max_columns\", None)\n",
    "pd.set_option(\"display.max_rows\", 30)\n",
    "\n",
    "df_cons.isnull().sum()"
   ]
  },
  {
   "cell_type": "code",
   "execution_count": 4,
   "id": "c34f7a2c-0b63-47a7-a418-f9d63968b58e",
   "metadata": {},
   "outputs": [
    {
     "data": {
      "text/html": [
       "<div>\n",
       "<style scoped>\n",
       "    .dataframe tbody tr th:only-of-type {\n",
       "        vertical-align: middle;\n",
       "    }\n",
       "\n",
       "    .dataframe tbody tr th {\n",
       "        vertical-align: top;\n",
       "    }\n",
       "\n",
       "    .dataframe thead th {\n",
       "        text-align: right;\n",
       "    }\n",
       "</style>\n",
       "<table border=\"1\" class=\"dataframe\">\n",
       "  <thead>\n",
       "    <tr style=\"text-align: right;\">\n",
       "      <th></th>\n",
       "      <th>date</th>\n",
       "      <th>PSP</th>\n",
       "      <th>DSP</th>\n",
       "      <th>DSP_like</th>\n",
       "      <th>ASP</th>\n",
       "      <th>Dinophysis caudata</th>\n",
       "      <th>Dinophysis fortii</th>\n",
       "      <th>Phalacroma rotundatum</th>\n",
       "      <th>Dinophysis sacculus</th>\n",
       "      <th>Dinophysis tripos</th>\n",
       "      <th>sun [h]</th>\n",
       "      <th>air temp</th>\n",
       "      <th>wind strength</th>\n",
       "      <th>precipitation</th>\n",
       "      <th>salinity</th>\n",
       "      <th>T</th>\n",
       "      <th>NH4-N</th>\n",
       "      <th>NO2-N</th>\n",
       "      <th>NO3-N</th>\n",
       "      <th>PO4-P</th>\n",
       "      <th>SiO3-Si</th>\n",
       "      <th>O2</th>\n",
       "      <th>Soca</th>\n",
       "      <th>lipophylic_toxins</th>\n",
       "    </tr>\n",
       "  </thead>\n",
       "  <tbody>\n",
       "    <tr>\n",
       "      <th>0</th>\n",
       "      <td>May</td>\n",
       "      <td>1206.0</td>\n",
       "      <td>68.0</td>\n",
       "      <td>NaN</td>\n",
       "      <td>NaN</td>\n",
       "      <td>27.0</td>\n",
       "      <td>0.0</td>\n",
       "      <td>21.0</td>\n",
       "      <td>0.0</td>\n",
       "      <td>0.0</td>\n",
       "      <td>197.1</td>\n",
       "      <td>15.114286</td>\n",
       "      <td>2.933333</td>\n",
       "      <td>26.2</td>\n",
       "      <td>33.78</td>\n",
       "      <td>13.58</td>\n",
       "      <td>1.25</td>\n",
       "      <td>0.06</td>\n",
       "      <td>6.73</td>\n",
       "      <td>0.15</td>\n",
       "      <td>4.91</td>\n",
       "      <td>230.449997</td>\n",
       "      <td>1471.231</td>\n",
       "      <td>NaN</td>\n",
       "    </tr>\n",
       "    <tr>\n",
       "      <th>3</th>\n",
       "      <td>May</td>\n",
       "      <td>4188.0</td>\n",
       "      <td>17.0</td>\n",
       "      <td>NaN</td>\n",
       "      <td>NaN</td>\n",
       "      <td>8.0</td>\n",
       "      <td>0.0</td>\n",
       "      <td>0.0</td>\n",
       "      <td>0.0</td>\n",
       "      <td>0.0</td>\n",
       "      <td>197.1</td>\n",
       "      <td>15.114286</td>\n",
       "      <td>2.933333</td>\n",
       "      <td>26.2</td>\n",
       "      <td>36.18</td>\n",
       "      <td>12.62</td>\n",
       "      <td>0.60</td>\n",
       "      <td>0.04</td>\n",
       "      <td>1.12</td>\n",
       "      <td>0.12</td>\n",
       "      <td>3.02</td>\n",
       "      <td>250.100006</td>\n",
       "      <td>1471.231</td>\n",
       "      <td>NaN</td>\n",
       "    </tr>\n",
       "    <tr>\n",
       "      <th>6</th>\n",
       "      <td>June</td>\n",
       "      <td>0.0</td>\n",
       "      <td>27.0</td>\n",
       "      <td>NaN</td>\n",
       "      <td>NaN</td>\n",
       "      <td>16.0</td>\n",
       "      <td>3.0</td>\n",
       "      <td>5.0</td>\n",
       "      <td>0.0</td>\n",
       "      <td>0.0</td>\n",
       "      <td>166.3</td>\n",
       "      <td>18.790476</td>\n",
       "      <td>3.157143</td>\n",
       "      <td>18.8</td>\n",
       "      <td>35.53</td>\n",
       "      <td>17.03</td>\n",
       "      <td>1.25</td>\n",
       "      <td>0.14</td>\n",
       "      <td>1.23</td>\n",
       "      <td>0.22</td>\n",
       "      <td>1.82</td>\n",
       "      <td>274.209991</td>\n",
       "      <td>3304.045</td>\n",
       "      <td>NaN</td>\n",
       "    </tr>\n",
       "    <tr>\n",
       "      <th>7</th>\n",
       "      <td>June</td>\n",
       "      <td>324.0</td>\n",
       "      <td>23.0</td>\n",
       "      <td>NaN</td>\n",
       "      <td>NaN</td>\n",
       "      <td>3.0</td>\n",
       "      <td>0.0</td>\n",
       "      <td>0.0</td>\n",
       "      <td>0.0</td>\n",
       "      <td>0.0</td>\n",
       "      <td>179.1</td>\n",
       "      <td>18.533333</td>\n",
       "      <td>3.052381</td>\n",
       "      <td>23.9</td>\n",
       "      <td>35.01</td>\n",
       "      <td>19.89</td>\n",
       "      <td>1.28</td>\n",
       "      <td>0.12</td>\n",
       "      <td>2.52</td>\n",
       "      <td>0.09</td>\n",
       "      <td>0.83</td>\n",
       "      <td>275.109985</td>\n",
       "      <td>2263.119</td>\n",
       "      <td>NaN</td>\n",
       "    </tr>\n",
       "    <tr>\n",
       "      <th>8</th>\n",
       "      <td>June</td>\n",
       "      <td>0.0</td>\n",
       "      <td>20.0</td>\n",
       "      <td>NaN</td>\n",
       "      <td>NaN</td>\n",
       "      <td>8.0</td>\n",
       "      <td>0.0</td>\n",
       "      <td>0.0</td>\n",
       "      <td>0.0</td>\n",
       "      <td>0.0</td>\n",
       "      <td>157.5</td>\n",
       "      <td>19.095238</td>\n",
       "      <td>3.066667</td>\n",
       "      <td>29.8</td>\n",
       "      <td>NaN</td>\n",
       "      <td>NaN</td>\n",
       "      <td>NaN</td>\n",
       "      <td>NaN</td>\n",
       "      <td>NaN</td>\n",
       "      <td>NaN</td>\n",
       "      <td>NaN</td>\n",
       "      <td>NaN</td>\n",
       "      <td>1873.218</td>\n",
       "      <td>NaN</td>\n",
       "    </tr>\n",
       "    <tr>\n",
       "      <th>...</th>\n",
       "      <td>...</td>\n",
       "      <td>...</td>\n",
       "      <td>...</td>\n",
       "      <td>...</td>\n",
       "      <td>...</td>\n",
       "      <td>...</td>\n",
       "      <td>...</td>\n",
       "      <td>...</td>\n",
       "      <td>...</td>\n",
       "      <td>...</td>\n",
       "      <td>...</td>\n",
       "      <td>...</td>\n",
       "      <td>...</td>\n",
       "      <td>...</td>\n",
       "      <td>...</td>\n",
       "      <td>...</td>\n",
       "      <td>...</td>\n",
       "      <td>...</td>\n",
       "      <td>...</td>\n",
       "      <td>...</td>\n",
       "      <td>...</td>\n",
       "      <td>...</td>\n",
       "      <td>...</td>\n",
       "      <td>...</td>\n",
       "    </tr>\n",
       "    <tr>\n",
       "      <th>1519</th>\n",
       "      <td>December</td>\n",
       "      <td>0.0</td>\n",
       "      <td>20.0</td>\n",
       "      <td>0.0</td>\n",
       "      <td>2500.0</td>\n",
       "      <td>0.0</td>\n",
       "      <td>10.0</td>\n",
       "      <td>0.0</td>\n",
       "      <td>10.0</td>\n",
       "      <td>0.0</td>\n",
       "      <td>64.3</td>\n",
       "      <td>8.547619</td>\n",
       "      <td>2.466667</td>\n",
       "      <td>81.1</td>\n",
       "      <td>34.72</td>\n",
       "      <td>16.58</td>\n",
       "      <td>1.51</td>\n",
       "      <td>0.15</td>\n",
       "      <td>4.69</td>\n",
       "      <td>0.10</td>\n",
       "      <td>9.21</td>\n",
       "      <td>212.506997</td>\n",
       "      <td>4071.444</td>\n",
       "      <td>neg</td>\n",
       "    </tr>\n",
       "    <tr>\n",
       "      <th>1517</th>\n",
       "      <td>December</td>\n",
       "      <td>0.0</td>\n",
       "      <td>0.0</td>\n",
       "      <td>0.0</td>\n",
       "      <td>2100.0</td>\n",
       "      <td>0.0</td>\n",
       "      <td>0.0</td>\n",
       "      <td>0.0</td>\n",
       "      <td>0.0</td>\n",
       "      <td>0.0</td>\n",
       "      <td>64.3</td>\n",
       "      <td>8.547619</td>\n",
       "      <td>2.466667</td>\n",
       "      <td>81.1</td>\n",
       "      <td>36.54</td>\n",
       "      <td>16.48</td>\n",
       "      <td>1.28</td>\n",
       "      <td>0.14</td>\n",
       "      <td>2.34</td>\n",
       "      <td>0.01</td>\n",
       "      <td>5.26</td>\n",
       "      <td>217.990202</td>\n",
       "      <td>4071.444</td>\n",
       "      <td>neg</td>\n",
       "    </tr>\n",
       "    <tr>\n",
       "      <th>1522</th>\n",
       "      <td>January</td>\n",
       "      <td>20.0</td>\n",
       "      <td>40.0</td>\n",
       "      <td>0.0</td>\n",
       "      <td>200.0</td>\n",
       "      <td>10.0</td>\n",
       "      <td>20.0</td>\n",
       "      <td>10.0</td>\n",
       "      <td>0.0</td>\n",
       "      <td>0.0</td>\n",
       "      <td>124.8</td>\n",
       "      <td>4.609524</td>\n",
       "      <td>2.647619</td>\n",
       "      <td>0.0</td>\n",
       "      <td>36.80</td>\n",
       "      <td>13.48</td>\n",
       "      <td>0.34</td>\n",
       "      <td>1.53</td>\n",
       "      <td>2.73</td>\n",
       "      <td>0.07</td>\n",
       "      <td>6.58</td>\n",
       "      <td>237.135858</td>\n",
       "      <td>1709.376</td>\n",
       "      <td>NaN</td>\n",
       "    </tr>\n",
       "    <tr>\n",
       "      <th>1521</th>\n",
       "      <td>January</td>\n",
       "      <td>0.0</td>\n",
       "      <td>0.0</td>\n",
       "      <td>0.0</td>\n",
       "      <td>2100.0</td>\n",
       "      <td>0.0</td>\n",
       "      <td>0.0</td>\n",
       "      <td>0.0</td>\n",
       "      <td>0.0</td>\n",
       "      <td>0.0</td>\n",
       "      <td>124.8</td>\n",
       "      <td>4.609524</td>\n",
       "      <td>2.647619</td>\n",
       "      <td>0.0</td>\n",
       "      <td>37.91</td>\n",
       "      <td>14.11</td>\n",
       "      <td>0.03</td>\n",
       "      <td>1.22</td>\n",
       "      <td>1.26</td>\n",
       "      <td>0.04</td>\n",
       "      <td>3.68</td>\n",
       "      <td>228.221284</td>\n",
       "      <td>1709.376</td>\n",
       "      <td>NaN</td>\n",
       "    </tr>\n",
       "    <tr>\n",
       "      <th>1520</th>\n",
       "      <td>January</td>\n",
       "      <td>0.0</td>\n",
       "      <td>10.0</td>\n",
       "      <td>0.0</td>\n",
       "      <td>1000.0</td>\n",
       "      <td>0.0</td>\n",
       "      <td>0.0</td>\n",
       "      <td>10.0</td>\n",
       "      <td>0.0</td>\n",
       "      <td>0.0</td>\n",
       "      <td>124.8</td>\n",
       "      <td>4.609524</td>\n",
       "      <td>2.647619</td>\n",
       "      <td>0.0</td>\n",
       "      <td>38.03</td>\n",
       "      <td>14.30</td>\n",
       "      <td>0.12</td>\n",
       "      <td>1.18</td>\n",
       "      <td>1.23</td>\n",
       "      <td>0.04</td>\n",
       "      <td>3.26</td>\n",
       "      <td>229.621844</td>\n",
       "      <td>1709.376</td>\n",
       "      <td>NaN</td>\n",
       "    </tr>\n",
       "  </tbody>\n",
       "</table>\n",
       "<p>1323 rows × 24 columns</p>\n",
       "</div>"
      ],
      "text/plain": [
       "          date     PSP   DSP  DSP_like     ASP  Dinophysis caudata  \\\n",
       "0          May  1206.0  68.0       NaN     NaN                27.0   \n",
       "3          May  4188.0  17.0       NaN     NaN                 8.0   \n",
       "6         June     0.0  27.0       NaN     NaN                16.0   \n",
       "7         June   324.0  23.0       NaN     NaN                 3.0   \n",
       "8         June     0.0  20.0       NaN     NaN                 8.0   \n",
       "...        ...     ...   ...       ...     ...                 ...   \n",
       "1519  December     0.0  20.0       0.0  2500.0                 0.0   \n",
       "1517  December     0.0   0.0       0.0  2100.0                 0.0   \n",
       "1522   January    20.0  40.0       0.0   200.0                10.0   \n",
       "1521   January     0.0   0.0       0.0  2100.0                 0.0   \n",
       "1520   January     0.0  10.0       0.0  1000.0                 0.0   \n",
       "\n",
       "      Dinophysis fortii  Phalacroma rotundatum  Dinophysis sacculus  \\\n",
       "0                   0.0                   21.0                  0.0   \n",
       "3                   0.0                    0.0                  0.0   \n",
       "6                   3.0                    5.0                  0.0   \n",
       "7                   0.0                    0.0                  0.0   \n",
       "8                   0.0                    0.0                  0.0   \n",
       "...                 ...                    ...                  ...   \n",
       "1519               10.0                    0.0                 10.0   \n",
       "1517                0.0                    0.0                  0.0   \n",
       "1522               20.0                   10.0                  0.0   \n",
       "1521                0.0                    0.0                  0.0   \n",
       "1520                0.0                   10.0                  0.0   \n",
       "\n",
       "      Dinophysis tripos  sun [h]   air temp  wind strength  precipitation  \\\n",
       "0                   0.0    197.1  15.114286       2.933333           26.2   \n",
       "3                   0.0    197.1  15.114286       2.933333           26.2   \n",
       "6                   0.0    166.3  18.790476       3.157143           18.8   \n",
       "7                   0.0    179.1  18.533333       3.052381           23.9   \n",
       "8                   0.0    157.5  19.095238       3.066667           29.8   \n",
       "...                 ...      ...        ...            ...            ...   \n",
       "1519                0.0     64.3   8.547619       2.466667           81.1   \n",
       "1517                0.0     64.3   8.547619       2.466667           81.1   \n",
       "1522                0.0    124.8   4.609524       2.647619            0.0   \n",
       "1521                0.0    124.8   4.609524       2.647619            0.0   \n",
       "1520                0.0    124.8   4.609524       2.647619            0.0   \n",
       "\n",
       "      salinity      T  NH4-N  NO2-N  NO3-N  PO4-P  SiO3-Si          O2  \\\n",
       "0        33.78  13.58   1.25   0.06   6.73   0.15     4.91  230.449997   \n",
       "3        36.18  12.62   0.60   0.04   1.12   0.12     3.02  250.100006   \n",
       "6        35.53  17.03   1.25   0.14   1.23   0.22     1.82  274.209991   \n",
       "7        35.01  19.89   1.28   0.12   2.52   0.09     0.83  275.109985   \n",
       "8          NaN    NaN    NaN    NaN    NaN    NaN      NaN         NaN   \n",
       "...        ...    ...    ...    ...    ...    ...      ...         ...   \n",
       "1519     34.72  16.58   1.51   0.15   4.69   0.10     9.21  212.506997   \n",
       "1517     36.54  16.48   1.28   0.14   2.34   0.01     5.26  217.990202   \n",
       "1522     36.80  13.48   0.34   1.53   2.73   0.07     6.58  237.135858   \n",
       "1521     37.91  14.11   0.03   1.22   1.26   0.04     3.68  228.221284   \n",
       "1520     38.03  14.30   0.12   1.18   1.23   0.04     3.26  229.621844   \n",
       "\n",
       "          Soca lipophylic_toxins  \n",
       "0     1471.231               NaN  \n",
       "3     1471.231               NaN  \n",
       "6     3304.045               NaN  \n",
       "7     2263.119               NaN  \n",
       "8     1873.218               NaN  \n",
       "...        ...               ...  \n",
       "1519  4071.444               neg  \n",
       "1517  4071.444               neg  \n",
       "1522  1709.376               NaN  \n",
       "1521  1709.376               NaN  \n",
       "1520  1709.376               NaN  \n",
       "\n",
       "[1323 rows x 24 columns]"
      ]
     },
     "execution_count": 4,
     "metadata": {},
     "output_type": "execute_result"
    }
   ],
   "source": [
    "# Change date to month only\n",
    "df_cons[\"date\"] = df_alg[\"date\"].dt.month_name()\n",
    "\n",
    "# Create df for the sckiti-learn; Remove sampling station, sampling depth, sampling method\n",
    "df_cons_SL = df_cons.drop(columns=[\"sampling station\", \"sampling depth\", \"sampling method\", \"SECCHI\", \"pH\", \"Chl-a\", ])\n",
    "df_cons_SL"
   ]
  },
  {
   "cell_type": "code",
   "execution_count": 5,
   "id": "068db70e-c3ad-40bd-97f9-0e7284f5e428",
   "metadata": {},
   "outputs": [
    {
     "data": {
      "text/plain": [
       "neg    417\n",
       "poz     51\n",
       "Name: lipophylic_toxins, dtype: int64"
      ]
     },
     "execution_count": 5,
     "metadata": {},
     "output_type": "execute_result"
    }
   ],
   "source": [
    "# Preprocessing for NN in scikit_learn\n",
    "# one-hot encoding of date feature\n",
    "df_cons_SL = pd.get_dummies(df_cons_SL, columns=[\"date\"])\n",
    "\n",
    "# Remove missing values\n",
    "df_cons_SL = df_cons_SL.dropna(how=\"any\").copy()\n",
    "\n",
    "# Class distribution\n",
    "df_cons_SL[\"lipophylic_toxins\"].value_counts()"
   ]
  },
  {
   "cell_type": "code",
   "execution_count": 6,
   "id": "91e9a2db-7d7e-4c8d-b618-30fb2f038c8b",
   "metadata": {},
   "outputs": [
    {
     "name": "stdout",
     "output_type": "stream",
     "text": [
      "Class labels pre-transform: ['neg', 'poz']\n",
      "Class labels post-transform: [0 1]\n"
     ]
    }
   ],
   "source": [
    "# [Continuation...] Preprocessing for NN in scikit_learn\n",
    "X = df_cons_SL.copy().drop(\"lipophylic_toxins\", axis=1)\n",
    "y = df_cons_SL[\"lipophylic_toxins\"]\n",
    "\n",
    "# sklearn lable encoding\n",
    "from sklearn import preprocessing\n",
    "le = preprocessing.LabelEncoder()\n",
    "le.fit(y)\n",
    "print(f\"Class labels pre-transform: {list(le.classes_)}\")\n",
    "y = le.transform(y)\n",
    "print(f\"Class labels post-transform: {np.unique(y)}\")\n",
    "\n",
    "# scalling numeric values\n",
    "from sklearn.preprocessing import StandardScaler\n",
    "scaled_array = StandardScaler().fit_transform(X)\n",
    "X = pd.DataFrame(scaled_array, columns=X.columns)"
   ]
  },
  {
   "cell_type": "code",
   "execution_count": 7,
   "id": "0af6cad3-fc92-481a-8c54-b96321a0b9b6",
   "metadata": {},
   "outputs": [
    {
     "name": "stdout",
     "output_type": "stream",
     "text": [
      "Original dataset shape: Counter({0: 417, 1: 51})\n",
      "Resampled dataset shape: Counter({0: 260, 1: 208})\n"
     ]
    }
   ],
   "source": [
    "# Fix class imbalance with Synthetic Minority Oversampling Technique - SMOTE – and undersampling!\n",
    "from collections import Counter\n",
    "from imblearn.over_sampling import SMOTE\n",
    "from imblearn.under_sampling import RandomUnderSampler\n",
    "from imblearn.pipeline import Pipeline\n",
    "\n",
    "# summarize class distribution\n",
    "counter = Counter(y)\n",
    "print('Original dataset shape: %s' % Counter(y))\n",
    "\n",
    "# define SMOTE pipeline (oversampling instances with poz (minority class) and undersampling those with neg label)\n",
    "over = SMOTE(sampling_strategy=0.5)\n",
    "under = RandomUnderSampler(sampling_strategy=0.8)\n",
    "steps = [('o', over), ('u', under)]\n",
    "pipeline = Pipeline(steps=steps)\n",
    "\n",
    "# transform the dataset\n",
    "X_res, y_res = pipeline.fit_resample(X, y)\n",
    "\n",
    "# summarize the new class distribution\n",
    "counter = Counter(y_res)\n",
    "print('Resampled dataset shape: %s' % Counter(y_res))"
   ]
  },
  {
   "cell_type": "markdown",
   "id": "c17e63f2-39c7-4ab8-bb0e-22e01991f9e5",
   "metadata": {},
   "source": [
    "## Model Training and Evaluation"
   ]
  },
  {
   "cell_type": "markdown",
   "id": "d0db8e4c-76d7-4b28-a874-e70f5256bf91",
   "metadata": {},
   "source": [
    "### Random Forest Model"
   ]
  },
  {
   "cell_type": "markdown",
   "id": "9be1409e-0948-4107-bc34-558b1bb08a35",
   "metadata": {},
   "source": [
    "#### Model evaluation (Random Forest)"
   ]
  },
  {
   "cell_type": "code",
   "execution_count": 8,
   "id": "81adc9f8-e3a5-4c45-945c-3a51295636be",
   "metadata": {},
   "outputs": [
    {
     "name": "stdout",
     "output_type": "stream",
     "text": [
      "> k=1, Mean ROC AUC: 0.849\n",
      "> k=2, Mean ROC AUC: 0.858\n",
      "> k=3, Mean ROC AUC: 0.864\n",
      "> k=4, Mean ROC AUC: 0.852\n",
      "> k=5, Mean ROC AUC: 0.851\n",
      "> k=6, Mean ROC AUC: 0.846\n",
      "> k=7, Mean ROC AUC: 0.861\n",
      "> k=8, Mean ROC AUC: 0.858\n",
      "> k=9, Mean ROC AUC: 0.861\n",
      "> k=10, Mean ROC AUC: 0.861\n",
      ">>Best k-value: k=3 with Mean ROC AUC on resampled dataset: 0.86\n",
      ">>Mean ROC AUC on unsampled dataset: 0.85\n",
      "\n",
      "> k=1, Mean Recall: 0.536\n",
      "> k=2, Mean Recall: 0.549\n",
      "> k=3, Mean Recall: 0.575\n",
      "> k=4, Mean Recall: 0.556\n",
      "> k=5, Mean Recall: 0.523\n",
      "> k=6, Mean Recall: 0.601\n",
      "> k=7, Mean Recall: 0.556\n",
      "> k=8, Mean Recall: 0.582\n",
      "> k=9, Mean Recall: 0.588\n",
      "> k=10, Mean Recall: 0.608\n",
      ">>Best k-value: k=10 with Mean Recall on resampled dataset: 0.61\n",
      ">>Mean Recall on unsampled dataset: 0.38\n"
     ]
    }
   ],
   "source": [
    "# Model evaluation with the pipeline of SMOTE oversampling and undersampling on the training dataset only (within each cross-validation fold)!\n",
    "# Evaluate k (SMOTE) parameter. \n",
    "\n",
    "from numpy import mean\n",
    "from sklearn.model_selection import cross_val_score\n",
    "from sklearn.model_selection import RepeatedStratifiedKFold\n",
    "from sklearn.ensemble import RandomForestClassifier\n",
    "\n",
    "# Cross-validation of model with ROC AUC with SMOTE pipeline  \n",
    "\n",
    "\n",
    "# Find best performing k-value for SMOTE\n",
    "k_values = list(range(1,11))\n",
    "RF_auc_best_k = (_, 0)\n",
    "for k in k_values:   \n",
    "    # define pipeline\n",
    "    cv = RepeatedStratifiedKFold(n_splits=3, n_repeats=3, random_state=1)\n",
    "    clf = RandomForestClassifier(n_estimators=100, max_depth=None, max_features=None)\n",
    "    over = SMOTE(sampling_strategy=0.5, k_neighbors=k)\n",
    "    under = RandomUnderSampler(sampling_strategy=0.8)\n",
    "    steps = [('over', over), ('under', under), ('clf', clf)]\n",
    "    pipeline = Pipeline(steps=steps)\n",
    "    scores = cross_val_score(pipeline, X, y, scoring='roc_auc', cv=cv, n_jobs=-1)\n",
    "    score = mean(scores)\n",
    "    print('> k=%d, Mean ROC AUC: %.3f' % (k, score))\n",
    "    if score > RF_auc_best_k[1]:\n",
    "        RF_auc_best_k = (k, score)\n",
    "\n",
    "print(f\">>Best k-value: k={RF_auc_best_k[0]} with Mean ROC AUC on resampled dataset: {round(RF_auc_best_k[1], 2)}\")  \n",
    "\n",
    "# Cross-validation of model with ROC AUC without SMOTE pipeline  \n",
    "scores = cross_val_score(clf, X, y, scoring='roc_auc', cv=cv, n_jobs=-1)\n",
    "RF_auc_score = mean(scores)\n",
    "print(f\">>Mean ROC AUC on unsampled dataset: {round(RF_auc_score, 2)}\\n\")\n",
    "\n",
    "# Cross-validation of model with Recall with SMOTE pipeline\n",
    "# Find best performing k-value for SMOTE\n",
    "RF_recall_best_k = (_, 0)\n",
    "for k in k_values:\n",
    "    scores = cross_val_score(pipeline, X, y, scoring='recall', cv=cv, n_jobs=-1)\n",
    "    score = mean(scores)\n",
    "    print('> k=%d, Mean Recall: %.3f' % (k, score))\n",
    "    if score > RF_recall_best_k[1]:\n",
    "        RF_recall_best_k = (k, score)\n",
    "\n",
    "print(f\">>Best k-value: k={RF_recall_best_k[0]} with Mean Recall on resampled dataset: {round(RF_recall_best_k[1], 2)}\")   \n",
    "\n",
    "# Cross-validation of model with Recall without SMOTE pipeline  \n",
    "scores = cross_val_score(clf, X, y, scoring='recall', cv=cv, n_jobs=-1)\n",
    "RF_recall_score = mean(scores)\n",
    "print(f\">>Mean Recall on unsampled dataset: {round(RF_recall_score, 2)}\")"
   ]
  },
  {
   "cell_type": "markdown",
   "id": "e1e419d1-f53e-4a68-a922-6ae77cac13e9",
   "metadata": {},
   "source": [
    "#### Feature importance (Random Forest)"
   ]
  },
  {
   "cell_type": "code",
   "execution_count": 9,
   "id": "2d2cfb82-7f43-466c-b492-90b58e7c6966",
   "metadata": {},
   "outputs": [
    {
     "data": {
      "text/plain": [
       "Text(0.5, 1.0, 'Permutation Importance Random Forest')"
      ]
     },
     "execution_count": 9,
     "metadata": {},
     "output_type": "execute_result"
    },
    {
     "data": {
      "image/png": "[encoded data removed]",
      "text/plain": [
       "<Figure size 432x288 with 2 Axes>"
      ]
     },
     "metadata": {
      "needs_background": "light"
     },
     "output_type": "display_data"
    }
   ],
   "source": [
    "# Feature importance of model (RandomForest) with three methods!\n",
    "from sklearn.model_selection import train_test_split\n",
    "from sklearn.ensemble import RandomForestClassifier\n",
    "from sklearn.inspection import permutation_importance\n",
    "import shap\n",
    "from matplotlib import pyplot as plt\n",
    "fig, (ax1, ax2) = plt.subplots(1, 2)\n",
    "plt.subplots_adjust(wspace=1.3)\n",
    "\n",
    "# Split data and fit model\n",
    "X_train, X_test, y_train, y_test = train_test_split(X, y, test_size=0.3, random_state=1)\n",
    "rf = RandomForestClassifier(n_estimators=100, max_depth=None, max_features=None)\n",
    "rf.fit(X_train, y_train)\n",
    "\n",
    "# Get feature importance with Gini importance (mean decreased impurity)\n",
    "# print(rf.feature_importances_)\n",
    "gini_sorted_idx = rf.feature_importances_.argsort()\n",
    "x1 = X.columns[gini_sorted_idx]\n",
    "y1 = rf.feature_importances_[gini_sorted_idx]\n",
    "ax1.barh(x1, y1)\n",
    "ax1.set_title(\"Gini Feature Importance\")\n",
    "\n",
    "# Get feature importance with Permutation Based Feature Importance (randomly shuffles each feature and compute the \n",
    "# change in the model’s performance. The features which impact the performance the most are the most important one).\n",
    "perm_importance = permutation_importance(rf, X_test, y_test)\n",
    "perm_sorted_idx = perm_importance.importances_mean.argsort()\n",
    "x2 = X.columns[perm_sorted_idx]\n",
    "y2 = perm_importance.importances_mean[perm_sorted_idx]\n",
    "ax2.barh(x2, y2)\n",
    "ax2.set_title(\"Permutation Importance Random Forest\")"
   ]
  },
  {
   "cell_type": "code",
   "execution_count": 10,
   "id": "0547d681-1201-4853-a89a-006a0efddb39",
   "metadata": {},
   "outputs": [
    {
     "data": {
      "image/png": "[encoded data removed]",
      "text/plain": [
       "<Figure size 576x684 with 1 Axes>"
      ]
     },
     "metadata": {
      "needs_background": "light"
     },
     "output_type": "display_data"
    }
   ],
   "source": [
    "# Get feature importance with SHAP\n",
    "explainer = shap.TreeExplainer(rf)\n",
    "shap_values = explainer.shap_values(X_test)\n",
    "RF_shap = shap.summary_plot(shap_values, X_test, plot_type=\"bar\")"
   ]
  },
  {
   "cell_type": "markdown",
   "id": "8a7ca727-c52f-412b-a499-d6e9cdee947f",
   "metadata": {},
   "source": [
    "### Neural Network Model"
   ]
  },
  {
   "cell_type": "markdown",
   "id": "3cc6e6b4-1a36-47c3-92c2-51a1340b79c1",
   "metadata": {},
   "source": [
    "#### Model Evaluation (MLP)"
   ]
  },
  {
   "cell_type": "code",
   "execution_count": 11,
   "id": "b70de528-5c6d-428b-a0f4-890707fc436b",
   "metadata": {},
   "outputs": [
    {
     "name": "stdout",
     "output_type": "stream",
     "text": [
      "> k=1, Mean ROC AUC: 0.768\n",
      "> k=2, Mean ROC AUC: 0.787\n",
      "> k=3, Mean ROC AUC: 0.788\n",
      "> k=4, Mean ROC AUC: 0.781\n",
      "> k=5, Mean ROC AUC: 0.801\n",
      "> k=6, Mean ROC AUC: 0.797\n",
      "> k=7, Mean ROC AUC: 0.780\n",
      "> k=8, Mean ROC AUC: 0.789\n",
      "> k=9, Mean ROC AUC: 0.813\n",
      "> k=10, Mean ROC AUC: 0.790\n",
      ">>Best k: k=9 with Mean ROC AUC on resampled dataset: 0.81\n",
      ">>Mean ROC AUC on unsampled dataset: 0.78\n",
      "\n",
      "> k=1, Mean Recall: 0.549\n",
      "> k=2, Mean Recall: 0.542\n",
      "> k=3, Mean Recall: 0.523\n",
      "> k=4, Mean Recall: 0.529\n",
      "> k=5, Mean Recall: 0.536\n",
      "> k=6, Mean Recall: 0.569\n",
      "> k=7, Mean Recall: 0.523\n",
      "> k=8, Mean Recall: 0.542\n",
      "> k=9, Mean Recall: 0.497\n",
      "> k=10, Mean Recall: 0.536\n",
      ">>Best k: k=6 with Mean Recall on unsampled dataset: 0.57\n",
      ">>Mean Recall on unsampled dataset: 0.43\n"
     ]
    }
   ],
   "source": [
    "# Model evaluation with the pipeline of SMOTE oversampling and undersampling on the training dataset only (within each cross-validation fold)!\n",
    "# Evaluate k (SMOTE) parameter. \n",
    "from sklearn.neural_network import MLPClassifier\n",
    "\n",
    "# Cross-validation of model with ROC AUC with SMOTE pipeline  \n",
    "# define pipeline\n",
    "clf = MLPClassifier(solver='lbfgs', hidden_layer_sizes=(20,10), max_iter=3000, random_state=1)\n",
    "over = SMOTE(sampling_strategy=0.5, k_neighbors=k)\n",
    "under = RandomUnderSampler(sampling_strategy=0.8)\n",
    "steps = [('over', over), ('under', under), ('clf', clf)]\n",
    "pipeline = Pipeline(steps=steps)\n",
    "cv = RepeatedStratifiedKFold(n_splits=3, n_repeats=3, random_state=1)\n",
    "\n",
    "# Find best performing k-value for SMOTE\n",
    "k_values = list(range(1,11))\n",
    "MLP_auc_best_k = (_, 0)\n",
    "for k in k_values:\n",
    "    # evaluate pipeline\n",
    "    scores = cross_val_score(pipeline, X, y, scoring='roc_auc', cv=cv, n_jobs=-1)\n",
    "    score = mean(scores)\n",
    "    print('> k=%d, Mean ROC AUC: %.3f' % (k, score))\n",
    "    if score > MLP_auc_best_k[1]:\n",
    "        MLP_auc_best_k = (k, score)\n",
    "\n",
    "print(f\">>Best k: k={MLP_auc_best_k[0]} with Mean ROC AUC on resampled dataset: {round(MLP_auc_best_k[1], 2)}\")  \n",
    "\n",
    "# Cross-validation of model with ROC AUC without SMOTE pipeline  \n",
    "scores = cross_val_score(clf, X, y, scoring='roc_auc', cv=cv, n_jobs=-1)\n",
    "MLP_auc_score = mean(scores)\n",
    "print(f\">>Mean ROC AUC on unsampled dataset: {round(MLP_auc_score, 2)}\\n\")\n",
    "\n",
    "# Cross-validation of model with Recall with SMOTE pipeline\n",
    "# Find best performing k-value for SMOTE\n",
    "MLP_recall_best_k = (_, 0)\n",
    "for k in k_values:\n",
    "    # evaluate pipeline\n",
    "    scores = cross_val_score(pipeline, X, y, scoring='recall', cv=cv, n_jobs=-1)\n",
    "    score = mean(scores)\n",
    "    print('> k=%d, Mean Recall: %.3f' % (k, score))\n",
    "    if score > MLP_recall_best_k[1]:\n",
    "        MLP_recall_best_k = (k, score)\n",
    "\n",
    "print(f\">>Best k: k={MLP_recall_best_k[0]} with Mean Recall on unsampled dataset: {round(MLP_recall_best_k[1], 2)}\")  \n",
    "\n",
    "# Cross-validation of model with Recall without SMOTE pipeline  \n",
    "scores = cross_val_score(clf, X, y, scoring='recall', cv=cv, n_jobs=-1)\n",
    "MLP_recall_score = mean(scores)\n",
    "print(f\">>Mean Recall on unsampled dataset: {round(MLP_recall_score, 2)}\")"
   ]
  },
  {
   "cell_type": "code",
   "execution_count": 12,
   "id": "fe6fde10-21d5-46f4-ba80-1e97576ee06f",
   "metadata": {},
   "outputs": [
    {
     "data": {
      "text/html": [
       "<style>#sk-container-id-1 {color: black;background-color: white;}#sk-container-id-1 pre{padding: 0;}#sk-container-id-1 div.sk-toggleable {background-color: white;}#sk-container-id-1 label.sk-toggleable__label {cursor: pointer;display: block;width: 100%;margin-bottom: 0;padding: 0.3em;box-sizing: border-box;text-align: center;}#sk-container-id-1 label.sk-toggleable__label-arrow:before {content: \"▸\";float: left;margin-right: 0.25em;color: #696969;}#sk-container-id-1 label.sk-toggleable__label-arrow:hover:before {color: black;}#sk-container-id-1 div.sk-estimator:hover label.sk-toggleable__label-arrow:before {color: black;}#sk-container-id-1 div.sk-toggleable__content {max-height: 0;max-width: 0;overflow: hidden;text-align: left;background-color: #f0f8ff;}#sk-container-id-1 div.sk-toggleable__content pre {margin: 0.2em;color: black;border-radius: 0.25em;background-color: #f0f8ff;}#sk-container-id-1 input.sk-toggleable__control:checked~div.sk-toggleable__content {max-height: 200px;max-width: 100%;overflow: auto;}#sk-container-id-1 input.sk-toggleable__control:checked~label.sk-toggleable__label-arrow:before {content: \"▾\";}#sk-container-id-1 div.sk-estimator input.sk-toggleable__control:checked~label.sk-toggleable__label {background-color: #d4ebff;}#sk-container-id-1 div.sk-label input.sk-toggleable__control:checked~label.sk-toggleable__label {background-color: #d4ebff;}#sk-container-id-1 input.sk-hidden--visually {border: 0;clip: rect(1px 1px 1px 1px);clip: rect(1px, 1px, 1px, 1px);height: 1px;margin: -1px;overflow: hidden;padding: 0;position: absolute;width: 1px;}#sk-container-id-1 div.sk-estimator {font-family: monospace;background-color: #f0f8ff;border: 1px dotted black;border-radius: 0.25em;box-sizing: border-box;margin-bottom: 0.5em;}#sk-container-id-1 div.sk-estimator:hover {background-color: #d4ebff;}#sk-container-id-1 div.sk-parallel-item::after {content: \"\";width: 100%;border-bottom: 1px solid gray;flex-grow: 1;}#sk-container-id-1 div.sk-label:hover label.sk-toggleable__label {background-color: #d4ebff;}#sk-container-id-1 div.sk-serial::before {content: \"\";position: absolute;border-left: 1px solid gray;box-sizing: border-box;top: 0;bottom: 0;left: 50%;z-index: 0;}#sk-container-id-1 div.sk-serial {display: flex;flex-direction: column;align-items: center;background-color: white;padding-right: 0.2em;padding-left: 0.2em;position: relative;}#sk-container-id-1 div.sk-item {position: relative;z-index: 1;}#sk-container-id-1 div.sk-parallel {display: flex;align-items: stretch;justify-content: center;background-color: white;position: relative;}#sk-container-id-1 div.sk-item::before, #sk-container-id-1 div.sk-parallel-item::before {content: \"\";position: absolute;border-left: 1px solid gray;box-sizing: border-box;top: 0;bottom: 0;left: 50%;z-index: -1;}#sk-container-id-1 div.sk-parallel-item {display: flex;flex-direction: column;z-index: 1;position: relative;background-color: white;}#sk-container-id-1 div.sk-parallel-item:first-child::after {align-self: flex-end;width: 50%;}#sk-container-id-1 div.sk-parallel-item:last-child::after {align-self: flex-start;width: 50%;}#sk-container-id-1 div.sk-parallel-item:only-child::after {width: 0;}#sk-container-id-1 div.sk-dashed-wrapped {border: 1px dashed gray;margin: 0 0.4em 0.5em 0.4em;box-sizing: border-box;padding-bottom: 0.4em;background-color: white;}#sk-container-id-1 div.sk-label label {font-family: monospace;font-weight: bold;display: inline-block;line-height: 1.2em;}#sk-container-id-1 div.sk-label-container {text-align: center;}#sk-container-id-1 div.sk-container {/* jupyter's `normalize.less` sets `[hidden] { display: none; }` but bootstrap.min.css set `[hidden] { display: none !important; }` so we also need the `!important` here to be able to override the default hidden behavior on the sphinx rendered scikit-learn.org. See: https://github.com/scikit-learn/scikit-learn/issues/21755 */display: inline-block !important;position: relative;}#sk-container-id-1 div.sk-text-repr-fallback {display: none;}</style><div id=\"sk-container-id-1\" class=\"sk-top-container\"><div class=\"sk-text-repr-fallback\"><pre>GridSearchCV(cv=3, estimator=MLPClassifier(max_iter=3000, solver=&#x27;lbfgs&#x27;),\n",
       "             param_grid={&#x27;hidden_layer_sizes&#x27;: [(3,), (3, 3), (3, 3, 3)]},\n",
       "             scoring=&#x27;roc_auc&#x27;)</pre><b>In a Jupyter environment, please rerun this cell to show the HTML representation or trust the notebook. <br />On GitHub, the HTML representation is unable to render, please try loading this page with nbviewer.org.</b></div><div class=\"sk-container\" hidden><div class=\"sk-item sk-dashed-wrapped\"><div class=\"sk-label-container\"><div class=\"sk-label sk-toggleable\"><input class=\"sk-toggleable__control sk-hidden--visually\" id=\"sk-estimator-id-1\" type=\"checkbox\" ><label for=\"sk-estimator-id-1\" class=\"sk-toggleable__label sk-toggleable__label-arrow\">GridSearchCV</label><div class=\"sk-toggleable__content\"><pre>GridSearchCV(cv=3, estimator=MLPClassifier(max_iter=3000, solver=&#x27;lbfgs&#x27;),\n",
       "             param_grid={&#x27;hidden_layer_sizes&#x27;: [(3,), (3, 3), (3, 3, 3)]},\n",
       "             scoring=&#x27;roc_auc&#x27;)</pre></div></div></div><div class=\"sk-parallel\"><div class=\"sk-parallel-item\"><div class=\"sk-item\"><div class=\"sk-label-container\"><div class=\"sk-label sk-toggleable\"><input class=\"sk-toggleable__control sk-hidden--visually\" id=\"sk-estimator-id-2\" type=\"checkbox\" ><label for=\"sk-estimator-id-2\" class=\"sk-toggleable__label sk-toggleable__label-arrow\">estimator: MLPClassifier</label><div class=\"sk-toggleable__content\"><pre>MLPClassifier(max_iter=3000, solver=&#x27;lbfgs&#x27;)</pre></div></div></div><div class=\"sk-serial\"><div class=\"sk-item\"><div class=\"sk-estimator sk-toggleable\"><input class=\"sk-toggleable__control sk-hidden--visually\" id=\"sk-estimator-id-3\" type=\"checkbox\" ><label for=\"sk-estimator-id-3\" class=\"sk-toggleable__label sk-toggleable__label-arrow\">MLPClassifier</label><div class=\"sk-toggleable__content\"><pre>MLPClassifier(max_iter=3000, solver=&#x27;lbfgs&#x27;)</pre></div></div></div></div></div></div></div></div></div></div>"
      ],
      "text/plain": [
       "GridSearchCV(cv=3, estimator=MLPClassifier(max_iter=3000, solver='lbfgs'),\n",
       "             param_grid={'hidden_layer_sizes': [(3,), (3, 3), (3, 3, 3)]},\n",
       "             scoring='roc_auc')"
      ]
     },
     "execution_count": 12,
     "metadata": {},
     "output_type": "execute_result"
    }
   ],
   "source": [
    "# GRid search\n",
    "from sklearn.model_selection import GridSearchCV\n",
    "\n",
    "NN = MLPClassifier(solver='lbfgs', max_iter=3000)\n",
    "parameters = {\"hidden_layer_sizes\": [(3,), (3, 3), (3, 3, 3)]}\n",
    "gs = GridSearchCV(NN, parameters, scoring=\"roc_auc\", cv=3) # \"recall\"\n",
    "gs.fit(X_res, y_res)"
   ]
  },
  {
   "cell_type": "code",
   "execution_count": 13,
   "id": "9a859cff-3f5c-4b51-a7d5-e218ec84b340",
   "metadata": {},
   "outputs": [
    {
     "data": {
      "text/plain": [
       "{'mean_fit_time': array([0.04933604, 0.08362961, 0.09254948]),\n",
       " 'std_fit_time': array([0.01455216, 0.03925254, 0.02802438]),\n",
       " 'mean_score_time': array([0.00211422, 0.00190028, 0.00177614]),\n",
       " 'std_score_time': array([1.73857375e-04, 2.28377981e-04, 3.47935048e-05]),\n",
       " 'param_hidden_layer_sizes': masked_array(data=[(3,), (3, 3), (3, 3, 3)],\n",
       "              mask=[False, False, False],\n",
       "        fill_value='?',\n",
       "             dtype=object),\n",
       " 'params': [{'hidden_layer_sizes': (3,)},\n",
       "  {'hidden_layer_sizes': (3, 3)},\n",
       "  {'hidden_layer_sizes': (3, 3, 3)}],\n",
       " 'split0_test_score': array([0.93528236, 0.92770282, 0.90746294]),\n",
       " 'split1_test_score': array([0.88014326, 0.88938864, 0.91221056]),\n",
       " 'split2_test_score': array([0.9416113 , 0.96511628, 0.93139535]),\n",
       " 'mean_test_score': array([0.91901231, 0.92740258, 0.91702295]),\n",
       " 'std_test_score': array([0.02760575, 0.03091641, 0.01034599]),\n",
       " 'rank_test_score': array([2, 1, 3], dtype=int32)}"
      ]
     },
     "execution_count": 13,
     "metadata": {},
     "output_type": "execute_result"
    }
   ],
   "source": [
    "gs.cv_results_"
   ]
  },
  {
   "cell_type": "markdown",
   "id": "89ba333f-3931-4bf7-ae33-757478d69a30",
   "metadata": {},
   "source": [
    "#### Feature Importance (MLP)"
   ]
  },
  {
   "cell_type": "code",
   "execution_count": 15,
   "id": "67f68acd-b343-48c6-a372-d46ed52e6951",
   "metadata": {},
   "outputs": [
    {
     "data": {
      "text/plain": [
       "Text(0.5, 1.0, 'Permutation Importance MLP')"
      ]
     },
     "execution_count": 15,
     "metadata": {},
     "output_type": "execute_result"
    },
    {
     "data": {
      "image/png": "[encoded data removed]",
      "text/plain": [
       "<Figure size 432x288 with 1 Axes>"
      ]
     },
     "metadata": {
      "needs_background": "light"
     },
     "output_type": "display_data"
    }
   ],
   "source": [
    "# Feature importance of model (RandomForest) with three methods (no cross-validation!)\n",
    "from sklearn.model_selection import train_test_split\n",
    "from sklearn.ensemble import RandomForestClassifier\n",
    "from sklearn.inspection import permutation_importance\n",
    "import shap\n",
    "from matplotlib import pyplot as plt\n",
    "fig, (ax2) = plt.subplots(1, 1)\n",
    "plt.subplots_adjust(wspace=1.3)\n",
    "\n",
    "# Split data and fit model\n",
    "X_train, X_test, y_train, y_test = train_test_split(X, y, test_size=0.3, random_state=1)\n",
    "MLP = MLPClassifier(solver='lbfgs', hidden_layer_sizes=(20,10), max_iter=3000, random_state=1)\n",
    "MLP.fit(X_train, y_train)\n",
    "\n",
    "# Get feature importance with Permutation Based Feature Importance (randomly shuffles each feature and compute the \n",
    "# change in the model’s performance. The features which impact the performance the most are the most important one).\n",
    "perm_importance = permutation_importance(MLP, X_test, y_test)\n",
    "perm_sorted_idx = perm_importance.importances_mean.argsort()\n",
    "x2 = X.columns[perm_sorted_idx]\n",
    "y2 = perm_importance.importances_mean[perm_sorted_idx]\n",
    "ax2.barh(x2, y2)\n",
    "ax2.set_title(\"Permutation Importance MLP\")"
   ]
  },
  {
   "cell_type": "code",
   "execution_count": null,
   "id": "e6ecb324-cec5-4dd6-9614-84fb0d24a3bf",
   "metadata": {},
   "outputs": [],
   "source": [
    "# explain the model's predictions using SHAP\n",
    "import shap\n",
    "# explainer = shap.KernelExplainer(clf.predict_proba, X_train)\n",
    "explainer = shap.KernelExplainer(MLP.predict_proba, shap.sample(pd.DataFrame(X_train, columns=X.columns), 100))\n",
    "shap_values = explainer.shap_values(X_test)"
   ]
  },
  {
   "cell_type": "code",
   "execution_count": 21,
   "id": "905e54ff-7f73-43c9-b5ee-0fe11ec4ca1e",
   "metadata": {},
   "outputs": [
    {
     "data": {
      "image/png": "[encoded data removed]",
      "text/plain": [
       "<Figure size 576x684 with 1 Axes>"
      ]
     },
     "metadata": {
      "needs_background": "light"
     },
     "output_type": "display_data"
    }
   ],
   "source": [
    "# visualize the first prediction's explanation (Shapley value is the average contribution of features which are predicting in different situation).\n",
    "shap.summary_plot(shap_values, X_test)"
   ]
  },
  {
   "cell_type": "markdown",
   "id": "ae9f3aca-b6f0-4ab4-bd20-b828301bfdb2",
   "metadata": {},
   "source": [
    "### Conclusion"
   ]
  },
  {
   "cell_type": "code",
   "execution_count": 22,
   "id": "6edb6f9a-7038-4f5a-9a98-914a7d0e7557",
   "metadata": {},
   "outputs": [
    {
     "name": "stdout",
     "output_type": "stream",
     "text": [
      "Table summarising the prediction results of the used classifiers, both with and without SMOTE resampling:\n",
      "\n"
     ]
    },
    {
     "data": {
      "text/html": [
       "<div>\n",
       "<style scoped>\n",
       "    .dataframe tbody tr th:only-of-type {\n",
       "        vertical-align: middle;\n",
       "    }\n",
       "\n",
       "    .dataframe tbody tr th {\n",
       "        vertical-align: top;\n",
       "    }\n",
       "\n",
       "    .dataframe thead th {\n",
       "        text-align: right;\n",
       "    }\n",
       "</style>\n",
       "<table border=\"1\" class=\"dataframe\">\n",
       "  <thead>\n",
       "    <tr style=\"text-align: right;\">\n",
       "      <th></th>\n",
       "      <th>Recall</th>\n",
       "      <th>ROC AUC</th>\n",
       "    </tr>\n",
       "    <tr>\n",
       "      <th>Model</th>\n",
       "      <th></th>\n",
       "      <th></th>\n",
       "    </tr>\n",
       "  </thead>\n",
       "  <tbody>\n",
       "    <tr>\n",
       "      <th>RF</th>\n",
       "      <td>0.38</td>\n",
       "      <td>0.85</td>\n",
       "    </tr>\n",
       "    <tr>\n",
       "      <th>MLP</th>\n",
       "      <td>0.43</td>\n",
       "      <td>0.78</td>\n",
       "    </tr>\n",
       "    <tr>\n",
       "      <th>RF (smote)</th>\n",
       "      <td>0.61</td>\n",
       "      <td>0.86</td>\n",
       "    </tr>\n",
       "    <tr>\n",
       "      <th>MLP (smote)</th>\n",
       "      <td>0.57</td>\n",
       "      <td>0.81</td>\n",
       "    </tr>\n",
       "    <tr>\n",
       "      <th>Decision tree (J48)*</th>\n",
       "      <td>0.56</td>\n",
       "      <td>0.18</td>\n",
       "    </tr>\n",
       "  </tbody>\n",
       "</table>\n",
       "</div>"
      ],
      "text/plain": [
       "                      Recall  ROC AUC\n",
       "Model                                \n",
       "RF                      0.38     0.85\n",
       "MLP                     0.43     0.78\n",
       "RF (smote)              0.61     0.86\n",
       "MLP (smote)             0.57     0.81\n",
       "Decision tree (J48)*    0.56     0.18"
      ]
     },
     "execution_count": 22,
     "metadata": {},
     "output_type": "execute_result"
    }
   ],
   "source": [
    "# Summary table of prediction results\n",
    "RF_recall = round(RF_recall_best_k[1], 2)\n",
    "RF_auc = round(RF_auc_best_k[1], 2)\n",
    "MLP_recall = round(MLP_recall_best_k[1], 2)\n",
    "MLP_auc = round(MLP_auc_best_k[1], 2)\n",
    "\n",
    "summary = pd.DataFrame(\n",
    "    [\n",
    "        (\n",
    "            \"RF\",\n",
    "            RF_recall_score,\n",
    "            RF_auc_score,\n",
    "        ),\n",
    "        (\n",
    "            \"MLP\",\n",
    "            MLP_recall_score,\n",
    "            MLP_auc_score,\n",
    "        ),\n",
    "        (\n",
    "            \"RF (smote)\",\n",
    "            RF_recall,\n",
    "            RF_auc,\n",
    "        ),\n",
    "        (\n",
    "            \"MLP (smote)\",\n",
    "            MLP_recall,\n",
    "            MLP_auc,\n",
    "        ),\n",
    "        (\n",
    "            \"Decision tree (J48)*\",\n",
    "            0.56,\n",
    "            0.18,\n",
    "        ),\n",
    "    ],\n",
    "    columns=(\"Model\", \"Recall\", \"ROC AUC\"),\n",
    ").set_index(\"Model\")\n",
    "\n",
    "print(\"Table summarising the prediction results of the used classifiers, both with and without SMOTE resampling:\\n\")\n",
    "summary.round(2)"
   ]
  },
  {
   "cell_type": "markdown",
   "id": "0c712a49-d47a-456a-9905-50a6502a4be2",
   "metadata": {},
   "source": [
    "As can be seen resampling with SMOTE helped to improve the results substantially, especially when calculating recall. The highest recall and ROC AUC was achieved with Random Forest with the re-sampled data. Both recall and ROC AUC suggest Random Forest as beeing the better classifier for this particular problem. Recall is a crucial metric as it gives indication of what fraction of true positive instances have been predicted. Since the models predict toxins in seashells (food) it is crucial that as few positives as possible are missed.\n",
    "\n",
    "Due to the use of SMOTE resampling (upsampling and downsampling) in combinaiton with cross-validation it was curcial to do the resampling within each fold to avoid data lekeage and validate on original (unsampled) data. In addition, I have optimised the model with regard to the k-values of SMOTE, all of which brought along some complexity. So for the parameter tuning of Random Forest and MLP various parameter settings have been tried  and the model with best performing settings has been chosen.\n",
    "\n",
    "The decision tree J48 algorithm was run within Weka on a slightly different dataset (missing values were not removed to use as many instances as possible, cross validation was 10-fold as opposed to 3-fold due to a higher dataset etc.) thus this results are not directly comparable but were provided as a reference to give an indication of the performance of this algorithm. \n",
    "\n",
    "As can be seen in the feature importance bar plots above, similar features were on the top despite using two different classification algorithms and two different feature ranking methods. If we consider just the three highest-ranking features of each of the feature ranking methods for both algortihms (RF and MLP) the features that overlap are DSP, DSP_like, ASP, Dinophysis fortii and Dinophysis caudata. These can be shown to the domain experts for validation and interpretation."
   ]
  }
 ],
 "metadata": {
  "kernelspec": {
   "display_name": "Python 3 (ipykernel)",
   "language": "python",
   "name": "python3"
  },
  "language_info": {
   "codemirror_mode": {
    "name": "ipython",
    "version": 3
   },
   "file_extension": ".py",
   "mimetype": "text/x-python",
   "name": "python",
   "nbconvert_exporter": "python",
   "pygments_lexer": "ipython3",
   "version": "3.8.0"
  }
 },
 "nbformat": 4,
 "nbformat_minor": 5
}
