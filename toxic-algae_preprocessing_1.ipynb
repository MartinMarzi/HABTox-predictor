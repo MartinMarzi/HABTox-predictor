{
 "cells": [
  {
   "cell_type": "code",
   "execution_count": 29,
   "id": "57d854a4-aa15-40da-bd45-4df04e0043ed",
   "metadata": {},
   "outputs": [],
   "source": [
    "from datetime import datetime\n",
    "import pandas as pd\n",
    "import numpy as np\n",
    "from dateutil.parser import parse"
   ]
  },
  {
   "cell_type": "code",
   "execution_count": 51,
   "id": "956b0cd8-ab9c-4514-a473-1586e845bd85",
   "metadata": {},
   "outputs": [
    {
     "data": {
      "text/plain": [
       "[datetime.datetime(1994, 8, 8, 0, 0),\n",
       " datetime.datetime(1994, 8, 24, 0, 0),\n",
       " datetime.datetime(1994, 9, 7, 0, 0),\n",
       " datetime.datetime(1994, 9, 21, 0, 0)]"
      ]
     },
     "execution_count": 51,
     "metadata": {},
     "output_type": "execute_result"
    }
   ],
   "source": [
    "datestrs = [\"08/08/1994\", \"24/08/1994\", \"07/09/1994\", \"21/09/1994\"]\n",
    "dates = []\n",
    "for x in datestr:\n",
    "    dates.append(parse(x, dayfirst=True))\n",
    "dates"
   ]
  },
  {
   "cell_type": "code",
   "execution_count": 52,
   "id": "abba3d07-22a2-4d28-ad69-ae2292bec152",
   "metadata": {},
   "outputs": [
    {
     "data": {
      "text/plain": [
       "DatetimeIndex(['1994-08-08', '1994-08-24', '1994-09-07', '1994-09-21'], dtype='datetime64[ns]', freq=None)"
      ]
     },
     "execution_count": 52,
     "metadata": {},
     "output_type": "execute_result"
    }
   ],
   "source": [
    "pd.to_datetime(dates, dayfirst=True)"
   ]
  },
  {
   "cell_type": "code",
   "execution_count": 54,
   "id": "37109475-1e23-4db5-85ff-1f1e73b46edd",
   "metadata": {},
   "outputs": [
    {
     "data": {
      "text/plain": [
       "1994-08-08   -0.986803\n",
       "1994-08-24    0.294990\n",
       "1994-09-07   -0.576092\n",
       "1994-09-21   -0.902798\n",
       "dtype: float64"
      ]
     },
     "execution_count": 54,
     "metadata": {},
     "output_type": "execute_result"
    }
   ],
   "source": [
    "ts = pd.Series(np.random.randn(4), index=dates)\n",
    "ts"
   ]
  },
  {
   "cell_type": "code",
   "execution_count": 39,
   "id": "4680cfdf-d057-41b9-b81a-9804641ce6cb",
   "metadata": {},
   "outputs": [
    {
     "data": {
      "text/plain": [
       "pandas.core.series.Series"
      ]
     },
     "execution_count": 39,
     "metadata": {},
     "output_type": "execute_result"
    }
   ],
   "source": []
  },
  {
   "cell_type": "code",
   "execution_count": null,
   "id": "3cacb60a-41a6-4e09-ba0d-79b247615f00",
   "metadata": {},
   "outputs": [],
   "source": []
  }
 ],
 "metadata": {
  "kernelspec": {
   "display_name": "Python 3",
   "language": "python",
   "name": "python3"
  },
  "language_info": {
   "codemirror_mode": {
    "name": "ipython",
    "version": 3
   },
   "file_extension": ".py",
   "mimetype": "text/x-python",
   "name": "python",
   "nbconvert_exporter": "python",
   "pygments_lexer": "ipython3",
   "version": "3.9.4"
  }
 },
 "nbformat": 4,
 "nbformat_minor": 5
}
