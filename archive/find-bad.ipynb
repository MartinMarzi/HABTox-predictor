{
 "cells": [
  {
   "cell_type": "code",
   "execution_count": 1,
   "id": "57d854a4-aa15-40da-bd45-4df04e0043ed",
   "metadata": {},
   "outputs": [],
   "source": [
    "from datetime import datetime\n",
    "import pandas as pd\n",
    "import numpy as np\n",
    "from dateutil.parser import parse\n",
    "import datetime\n",
    "from dateutil.parser import parse\n",
    "import math\n",
    "from numpy import mean\n",
    "\n",
    "from sklearn.preprocessing import StandardScaler, RobustScaler, LabelEncoder\n",
    "from sklearn.model_selection import cross_val_score, RepeatedStratifiedKFold, GridSearchCV, cross_validate, StratifiedKFold\n",
    "from sklearn.experimental import enable_iterative_imputer\n",
    "from sklearn.impute import IterativeImputer, SimpleImputer, KNNImputer\n",
    "from sklearn.pipeline import Pipeline as SKLpipeline\n",
    "from sklearn import metrics\n",
    "from sklearn.model_selection import train_test_split, KFold\n",
    "from sklearn.tree import DecisionTreeClassifier\n",
    "from sklearn.tree import export_text\n",
    "from dtreeviz.trees import dtreeviz \n",
    "from sklearn.ensemble import RandomForestClassifier\n",
    "from sklearn.neural_network import MLPClassifier\n",
    "\n",
    "from imblearn.over_sampling import SMOTE\n",
    "from imblearn.under_sampling import RandomUnderSampler\n",
    "from imblearn.pipeline import Pipeline as IMBLpipeline\n",
    "\n",
    "from sklearn.inspection import permutation_importance\n",
    "import shap\n",
    "from matplotlib import pyplot as plt\n",
    "\n",
    "from IPython.core.interactiveshell import InteractiveShell\n",
    "# InteractiveShell.ast_node_interactivity = \"all\"\n",
    "\n",
    "pd.set_option(\"display.max_rows\", 30)\n",
    "pd.set_option(\"display.max_columns\", 30)"
   ]
  },
  {
   "cell_type": "code",
   "execution_count": 2,
   "id": "1d530319-a99e-4824-982c-5d531a8ac548",
   "metadata": {},
   "outputs": [
    {
     "data": {
      "text/plain": [
       "date                       0\n",
       "sampling station           0\n",
       "DSP                        1\n",
       "Dinophysis caudata         1\n",
       "Dinophysis fortii          1\n",
       "Phalacroma rotundatum      1\n",
       "Dinophysis sacculus        1\n",
       "Dinophysis tripos          1\n",
       "sun [h]                    0\n",
       "air temp                   0\n",
       "wind strength              0\n",
       "precipitation              0\n",
       "Chl-a                    661\n",
       "salinity                 191\n",
       "T                        244\n",
       "SECCHI                   696\n",
       "DIN                      542\n",
       "PO4-P                    534\n",
       "Soca                       0\n",
       "month                      0\n",
       "lipophylic_toxins        320\n",
       "dtype: int64"
      ]
     },
     "execution_count": 2,
     "metadata": {},
     "output_type": "execute_result"
    }
   ],
   "source": [
    "# read df pickle\n",
    "df_alg = pd.read_pickle(\"objects/df_alg-HAB_preprocessing_5_1\")\n",
    "data = pd.read_pickle(\"data/preprocessed/hab_org-data-HAB_part2-preprocessing-5_2\")\n",
    "# data = pd.read_pickle(\"data/preprocessed/hab_interp_data-HAB_part2-preprocessing-5_2\")\n",
    "\n",
    "# data.drop(columns=[\"sampling station\", \"date\"], inplace=True)\n",
    "# data.drop(columns=[\"date\"], inplace=True)\n",
    "data.isnull().sum()"
   ]
  },
  {
   "cell_type": "code",
   "execution_count": 3,
   "id": "e54e5716-91c5-48f2-b201-73f7444bd46c",
   "metadata": {},
   "outputs": [
    {
     "data": {
      "text/plain": [
       "date                       0\n",
       "sampling station           0\n",
       "DSP                        1\n",
       "Dinophysis caudata         1\n",
       "Dinophysis fortii          1\n",
       "Phalacroma rotundatum      1\n",
       "Dinophysis sacculus        1\n",
       "Dinophysis tripos          1\n",
       "sun [h]                    0\n",
       "air temp                   0\n",
       "wind strength              0\n",
       "precipitation              0\n",
       "salinity                 191\n",
       "T                        244\n",
       "Soca                       0\n",
       "month                      0\n",
       "lipophylic_toxins        320\n",
       "dtype: int64"
      ]
     },
     "execution_count": 3,
     "metadata": {},
     "output_type": "execute_result"
    }
   ],
   "source": [
    "data.drop(columns=[\"Chl-a\", \"SECCHI\", \"DIN\", \"PO4-P\"], inplace=True)#\n",
    "data.isnull().sum()"
   ]
  },
  {
   "cell_type": "code",
   "execution_count": 4,
   "id": "67f0106d-3b54-4623-8102-48ba8abd2460",
   "metadata": {},
   "outputs": [
    {
     "name": "stdout",
     "output_type": "stream",
     "text": [
      "class distribution:\n",
      "neg    839\n",
      "poz    114\n",
      "Name: lipophylic_toxins, dtype: int64\n",
      "class encoding: ['neg','poz'] -> [0 1]\n"
     ]
    }
   ],
   "source": [
    "# Prepare for ML in scikit-learn\n",
    "# labeled and unlabeled part\n",
    "data_l = data[data['lipophylic_toxins'].notnull()]\n",
    "data_ul = data[data['lipophylic_toxins'].isnull()]\n",
    "\n",
    "# Remove missing values\n",
    "data_l = data_l.dropna(how=\"any\")\n",
    "data_ul = data_ul.dropna(how=\"any\")\n",
    "\n",
    "data_l_full = data_l.copy()\n",
    "\n",
    "data_l.drop(columns=[\"sampling station\", \"date\"], inplace=True)\n",
    "data_ul.drop(columns=[\"sampling station\", \"date\"], inplace=True)\n",
    "\n",
    "print(f\"class distribution:\")\n",
    "print(data_l[\"lipophylic_toxins\"].value_counts(dropna=False))\n",
    "\n",
    "X = data_l.drop(\"lipophylic_toxins\", axis=1)\n",
    "y = data_l[\"lipophylic_toxins\"]\n",
    "\n",
    "# sklearn lable encoding\n",
    "le = LabelEncoder()\n",
    "le.fit(y)\n",
    "y = le.transform(y)\n",
    "print(f\"class encoding: ['neg','poz'] -> {le.transform(['neg','poz'])}\")"
   ]
  },
  {
   "cell_type": "code",
   "execution_count": 5,
   "id": "f589d9af-9a3e-409d-b825-81b43fd65407",
   "metadata": {},
   "outputs": [
    {
     "name": "stdout",
     "output_type": "stream",
     "text": [
      "0.6956521739130435 0.0\n"
     ]
    }
   ],
   "source": [
    "worst_score = 1\n",
    "worst_split = None\n",
    "best_score = 0\n",
    "best_split = None\n",
    "\n",
    "nfolds = 5\n",
    "nrepeats = 10000\n",
    "score = 'recall'\n",
    "\n",
    "all_scores = []\n",
    "for i in range(nrepeats):\n",
    "    skf = StratifiedKFold(n_splits=nfolds, shuffle=True)\n",
    "    train_test_indices = list(skf.split(X, y))\n",
    "    model = RandomForestClassifier()\n",
    "    fold_scores = cross_val_score(model, X, y, scoring=score, cv=train_test_indices, n_jobs=-1)\n",
    "    all_scores.append(fold_scores)\n",
    "    imin = np.argmin(fold_scores)\n",
    "    imax = np.argmax(fold_scores)\n",
    "    \n",
    "    if fold_scores[imin] < worst_score:\n",
    "        worst_score = fold_scores[imin]\n",
    "        worst_split = train_test_indices[imin]\n",
    "    \n",
    "    if fold_scores[imax] > best_score:\n",
    "        best_score = fold_scores[imax]\n",
    "        best_split = train_test_indices[imax]\n",
    "print(best_score, worst_score)"
   ]
  },
  {
   "cell_type": "code",
   "execution_count": 6,
   "id": "f06fa37a-5931-403b-9cfb-53b5b8c2046a",
   "metadata": {},
   "outputs": [],
   "source": [
    "worst_train_data = data_l_full.iloc[worst_split[0]]\n",
    "worst_test_data = data_l_full.iloc[worst_split[1]]\n",
    "\n",
    "best_train_data = data_l_full.iloc[best_split[0]]\n",
    "best_test_data = data_l_full.iloc[best_split[1]]\n",
    "\n",
    "worst_train_data.to_csv('data/worst_train.csv')\n",
    "worst_test_data.to_csv('data/worst_test.csv')\n",
    "\n",
    "best_train_data.to_csv('data/best_train.csv')\n",
    "best_test_data.to_csv('data/best_test.csv')"
   ]
  }
 ],
 "metadata": {
  "kernelspec": {
   "display_name": "Python 3 (ipykernel)",
   "language": "python",
   "name": "python3"
  },
  "language_info": {
   "codemirror_mode": {
    "name": "ipython",
    "version": 3
   },
   "file_extension": ".py",
   "mimetype": "text/x-python",
   "name": "python",
   "nbconvert_exporter": "python",
   "pygments_lexer": "ipython3",
   "version": "3.9.12"
  }
 },
 "nbformat": 4,
 "nbformat_minor": 5
}
